{
 "cells": [
  {
   "cell_type": "code",
   "execution_count": 1,
   "metadata": {},
   "outputs": [],
   "source": [
    "import random\n",
    "import numpy as np\n",
    "import matplotlib\n",
    "import time\n",
    "from numba import jit\n",
    "import multiprocessing as mp\n",
    "from matplotlib import pyplot as plt"
   ]
  },
  {
   "cell_type": "markdown",
   "metadata": {},
   "source": [
    "# Demand function"
   ]
  },
  {
   "cell_type": "code",
   "execution_count": 2,
   "metadata": {},
   "outputs": [],
   "source": [
    "@jit(nopython=True)\n",
    "def demand(p1, p2):\n",
    "    if p1 < p2:\n",
    "        d = 1 - p1\n",
    "    elif p1 == p2:\n",
    "        d = 0.5 * (1 - p1)\n",
    "    else:\n",
    "        d = 0\n",
    "    return d"
   ]
  },
  {
   "cell_type": "markdown",
   "metadata": {},
   "source": [
    "# Profit function"
   ]
  },
  {
   "cell_type": "code",
   "execution_count": 3,
   "metadata": {},
   "outputs": [],
   "source": [
    "@jit(nopython=True)\n",
    "def profit(p1, p2):\n",
    "    return (p1 * demand(p1, p2))"
   ]
  },
  {
   "cell_type": "code",
   "execution_count": 4,
   "metadata": {},
   "outputs": [],
   "source": [
    "P = np.array([0, 1/6, 2/6, 3/6, 4/6, 5/6, 1]) # price array"
   ]
  },
  {
   "cell_type": "markdown",
   "metadata": {},
   "source": [
    "# Probability array"
   ]
  },
  {
   "cell_type": "code",
   "execution_count": 50,
   "metadata": {},
   "outputs": [],
   "source": [
    "# Probability array for opponents choice\n",
    "@jit(nopython=True)\n",
    "def prob_array(Qtable, price_grid):\n",
    "    K = len(price_grid)\n",
    "    prob_matrix = np.zeros((K, K))\n",
    "\n",
    "    # [Anders] a faster way of doing the below is \n",
    "    # prob_matrix = Qtable / np.sum(Qtable, axis=1)[:, None]\n",
    "    \n",
    "    for i in range(K): # loops over every row in Qtable\n",
    "            prob_matrix[i] = Qtable[i, :] / np.sum(Qtable[i, :]) # for every column in row i we divide by the total number of the opponents actions\n",
    "\n",
    "    return prob_matrix\n"
   ]
  },
  {
   "cell_type": "markdown",
   "metadata": {},
   "source": [
    "# Expected profit"
   ]
  },
  {
   "cell_type": "code",
   "execution_count": 6,
   "metadata": {},
   "outputs": [],
   "source": [
    "# Expected profit for each possible action\n",
    "@jit(nopython=True)\n",
    "def expected_profit(price_grid, prob_opponent):\n",
    "    K = len(price_grid)\n",
    "    # Initialize profit_table and expected_profit_array\n",
    "    profit_table = np.zeros((K, K))\n",
    "    expected_profit_array = np.zeros(K)\n",
    "\n",
    "    # you can precompute the profit matrix: it doesn't change over iterations, \n",
    "    # only prob_opponent changes from iteration to iteration \n",
    "    # there's also a way to do the double sum using linear algebra instead \n",
    "    \n",
    "    for i in range(K): # loops over every row in profit_table # [Anders] Yes that's obvious, but what is i? Own action or opponent's action? \n",
    "        for j in range(K): # loops over every column in profit_table\n",
    "            # Calculate every possible profit \n",
    "            profit_table[i, j] = profit(price_grid[i], price_grid[j]) * prob_opponent[i, j] # adding weight to each possible profit\n",
    "        expected_profit_array[i] = np.sum(profit_table[i, :]) # calculating expected profit for each action\n",
    "    \n",
    "    return expected_profit_array"
   ]
  },
  {
   "cell_type": "code",
   "execution_count": 51,
   "metadata": {},
   "outputs": [],
   "source": [
    "@jit(nopython=True)\n",
    "def expected_profit_sequential(idx_state:int, price_grid, prob_opponent, discount_factor: float): \n",
    "    K = len(price_grid)\n",
    "    expected_profit = np.zeros(K)\n",
    "\n",
    "    # verify that the prob_opponent makes sense \n",
    "    assert prob_opponent.shape == (K,K)\n",
    "    #assert np.isclose(prob_opponent.sum(axis=1) , 1.0).all()\n",
    "\n",
    "    for i in range(K): # my price \n",
    "        profit_now = profit(price_grid[i], price_grid[idx_state]) # opponent cannot update price yet \n",
    "        profit_next = np.zeros(K)\n",
    "        for j in range(K): \n",
    "            profit_next[j] = profit(price_grid[i], price_grid[j]) # I cannot update next period \n",
    "\n",
    "        this_prob_opponent = prob_opponent[i,:] # my opponent will respond to my price with this probability vector \n",
    "        expected_profit[i] = profit_now + discount_factor * np.sum(profit_next * this_prob_opponent)\n",
    "    \n",
    "    return expected_profit \n",
    "        "
   ]
  },
  {
   "cell_type": "markdown",
   "metadata": {},
   "source": [
    "# Fictitious Play"
   ]
  },
  {
   "cell_type": "code",
   "execution_count": 52,
   "metadata": {},
   "outputs": [],
   "source": [
    "@jit(nopython=True)\n",
    "def FictitiousPlay(price_grid, periods, discount_factor):\n",
    "    K = len(price_grid)\n",
    "    \n",
    "    # Initialize count and profit arrays\n",
    "    count_i = np.zeros((K, K))\n",
    "    count_opponent = np.zeros((K, K))\n",
    "\n",
    "    prob_opponent = np.zeros((K, K))\n",
    "\n",
    "    # above, you have \"i\" and \"j\", but now you have \"1\" and \"2\"? \n",
    "    profit_1 = np.zeros(int(periods))\n",
    "    profit_2 = np.zeros(int(periods))\n",
    "\n",
    "    avg_profit = np.zeros(periods)\n",
    "\n",
    "    # Period 0 \n",
    "    price_index_opponent = np.random.choice(K) \n",
    "    price_index_i = np.random.choice(K) \n",
    "    print(\"T = 0\")\n",
    "    print(\"price_index_i:\", price_index_i)\n",
    "    print(\"price_index_opponent:\", price_index_opponent)\n",
    "\n",
    "    # if you simulate these choices for period t=0, why not compute \n",
    "    # the profits as well? \n",
    "\n",
    "    for t in range(1, periods + 1):\n",
    "        print(\"T = \", t)\n",
    "        # Update count_array based on the recent action of the opponent\n",
    "        # [Anders] why are you updating the full column? Shouldn't it \n",
    "        # just be \n",
    "        # Qtable_i[price_index_i, price_index_j] += 1\n",
    "        # With the current specification, I'd think it might make more \n",
    "        # sense to just store the counts of the opponent's actions in \n",
    "        # a 1D array, since the player's own actions are irrelevant.\n",
    "        print(\"price_index_i:\", price_index_i)\n",
    "        print(\"price_index_opponent:\", price_index_opponent)\n",
    "        \n",
    "        count_i[price_index_i, price_index_opponent] += 1\n",
    "        print(\"count_i:\", count_i)\n",
    "\n",
    "        # Calculate the probability vector for the opponents actions \n",
    "        prob_opponent = prob_array(count_i, price_grid)\n",
    "        print(\"prob_opponent:\", prob_opponent)\n",
    "\n",
    "        # Calculate the expected profit for each action\n",
    "        expected_profit_array = expected_profit_sequential(price_index_opponent, price_grid, prob_opponent, discount_factor)\n",
    "        print(\"expected_profit_array:\", expected_profit_array)\n",
    "\n",
    "        # Choosing the action with the largest expected profit\n",
    "        price_index_i = np.argmax(expected_profit_array)\n",
    "        print(\"price_index_i:\", price_index_i)\n",
    "\n",
    "        # Calculate the profit for player i and j\n",
    "        # [Anders] Here, you correctly compute (and later store) the profits for each \n",
    "        # player and for all periods, also the ones where they are not acting. \n",
    "        # But when the player makes the action, the expected profit array does not \n",
    "        # take this into account.\n",
    "        profit_opponent = profit(price_grid[price_index_opponent], price_grid[price_index_i])\n",
    "        profit_i_current_period = profit(price_grid[price_index_i], price_grid[price_index_opponent])\n",
    "        print(\"profit_i_current_period:\", profit_i_current_period)\n",
    "        print(\"profit_opponent:\", profit_opponent)\n",
    "\n",
    "        # Average profit\n",
    "        avg_profit[t-1] = (profit_i_current_period + profit_opponent) / 2\n",
    "\n",
    "        # Update the individual profit arrays\n",
    "        if t % 2 == 0:\n",
    "            profit_1[t-1] = profit_opponent\n",
    "            profit_2[t-1] = profit_i_current_period\n",
    "        else:\n",
    "            profit_1[t-1] = profit_i_current_period\n",
    "            profit_2[t-1] = profit_opponent\n",
    "\n",
    "        # Switch player for next period\n",
    "        count_i, count_opponent = count_opponent, count_i\n",
    "        price_index_opponent = price_index_i\n",
    "    \n",
    "    return avg_profit, profit_1, profit_2"
   ]
  },
  {
   "cell_type": "code",
   "execution_count": 53,
   "metadata": {},
   "outputs": [
    {
     "name": "stdout",
     "output_type": "stream",
     "text": [
      "T = 0\n",
      "price_index_i: 6\n",
      "price_index_opponent: 6\n",
      "T =  1\n",
      "price_index_i: 6\n",
      "price_index_opponent: 6\n",
      "count_i: [[0. 0. 0. 0. 0. 0. 0.]\n",
      " [0. 0. 0. 0. 0. 0. 0.]\n",
      " [0. 0. 0. 0. 0. 0. 0.]\n",
      " [0. 0. 0. 0. 0. 0. 0.]\n",
      " [0. 0. 0. 0. 0. 0. 0.]\n",
      " [0. 0. 0. 0. 0. 0. 0.]\n",
      " [0. 0. 0. 0. 0. 0. 1.]]\n",
      "prob_opponent: [[nan nan nan nan nan nan nan]\n",
      " [nan nan nan nan nan nan nan]\n",
      " [nan nan nan nan nan nan nan]\n",
      " [nan nan nan nan nan nan nan]\n",
      " [nan nan nan nan nan nan nan]\n",
      " [nan nan nan nan nan nan nan]\n",
      " [ 0.  0.  0.  0.  0.  0.  1.]]\n",
      "expected_profit_array: [nan nan nan nan nan nan  0.]\n",
      "price_index_i: 0\n",
      "profit_i_current_period: 0.0\n",
      "profit_opponent: 0.0\n",
      "T =  2\n",
      "price_index_i: 0\n",
      "price_index_opponent: 0\n",
      "count_i: [[1. 0. 0. 0. 0. 0. 0.]\n",
      " [0. 0. 0. 0. 0. 0. 0.]\n",
      " [0. 0. 0. 0. 0. 0. 0.]\n",
      " [0. 0. 0. 0. 0. 0. 0.]\n",
      " [0. 0. 0. 0. 0. 0. 0.]\n",
      " [0. 0. 0. 0. 0. 0. 0.]\n",
      " [0. 0. 0. 0. 0. 0. 0.]]\n",
      "prob_opponent: [[ 1.  0.  0.  0.  0.  0.  0.]\n",
      " [nan nan nan nan nan nan nan]\n",
      " [nan nan nan nan nan nan nan]\n",
      " [nan nan nan nan nan nan nan]\n",
      " [nan nan nan nan nan nan nan]\n",
      " [nan nan nan nan nan nan nan]\n",
      " [nan nan nan nan nan nan nan]]\n",
      "expected_profit_array: [ 0. nan nan nan nan nan nan]\n",
      "price_index_i: 1\n",
      "profit_i_current_period: 0.0\n",
      "profit_opponent: 0.0\n",
      "T =  3\n",
      "price_index_i: 1\n",
      "price_index_opponent: 1\n",
      "count_i: [[0. 0. 0. 0. 0. 0. 0.]\n",
      " [0. 1. 0. 0. 0. 0. 0.]\n",
      " [0. 0. 0. 0. 0. 0. 0.]\n",
      " [0. 0. 0. 0. 0. 0. 0.]\n",
      " [0. 0. 0. 0. 0. 0. 0.]\n",
      " [0. 0. 0. 0. 0. 0. 0.]\n",
      " [0. 0. 0. 0. 0. 0. 1.]]\n",
      "prob_opponent: [[nan nan nan nan nan nan nan]\n",
      " [ 0.  1.  0.  0.  0.  0.  0.]\n",
      " [nan nan nan nan nan nan nan]\n",
      " [nan nan nan nan nan nan nan]\n",
      " [nan nan nan nan nan nan nan]\n",
      " [nan nan nan nan nan nan nan]\n",
      " [ 0.  0.  0.  0.  0.  0.  1.]]\n",
      "expected_profit_array: [       nan 0.13541667        nan        nan        nan        nan\n",
      " 0.        ]\n",
      "price_index_i: 0\n",
      "profit_i_current_period: 0.0\n",
      "profit_opponent: 0.0\n",
      "T =  4\n",
      "price_index_i: 0\n",
      "price_index_opponent: 0\n",
      "count_i: [[2. 0. 0. 0. 0. 0. 0.]\n",
      " [0. 0. 0. 0. 0. 0. 0.]\n",
      " [0. 0. 0. 0. 0. 0. 0.]\n",
      " [0. 0. 0. 0. 0. 0. 0.]\n",
      " [0. 0. 0. 0. 0. 0. 0.]\n",
      " [0. 0. 0. 0. 0. 0. 0.]\n",
      " [0. 0. 0. 0. 0. 0. 0.]]\n",
      "prob_opponent: [[ 1.  0.  0.  0.  0.  0.  0.]\n",
      " [nan nan nan nan nan nan nan]\n",
      " [nan nan nan nan nan nan nan]\n",
      " [nan nan nan nan nan nan nan]\n",
      " [nan nan nan nan nan nan nan]\n",
      " [nan nan nan nan nan nan nan]\n",
      " [nan nan nan nan nan nan nan]]\n",
      "expected_profit_array: [ 0. nan nan nan nan nan nan]\n",
      "price_index_i: 1\n",
      "profit_i_current_period: 0.0\n",
      "profit_opponent: 0.0\n",
      "T =  5\n",
      "price_index_i: 1\n",
      "price_index_opponent: 1\n",
      "count_i: [[0. 0. 0. 0. 0. 0. 0.]\n",
      " [0. 2. 0. 0. 0. 0. 0.]\n",
      " [0. 0. 0. 0. 0. 0. 0.]\n",
      " [0. 0. 0. 0. 0. 0. 0.]\n",
      " [0. 0. 0. 0. 0. 0. 0.]\n",
      " [0. 0. 0. 0. 0. 0. 0.]\n",
      " [0. 0. 0. 0. 0. 0. 1.]]\n",
      "prob_opponent: [[nan nan nan nan nan nan nan]\n",
      " [ 0.  1.  0.  0.  0.  0.  0.]\n",
      " [nan nan nan nan nan nan nan]\n",
      " [nan nan nan nan nan nan nan]\n",
      " [nan nan nan nan nan nan nan]\n",
      " [nan nan nan nan nan nan nan]\n",
      " [ 0.  0.  0.  0.  0.  0.  1.]]\n",
      "expected_profit_array: [       nan 0.13541667        nan        nan        nan        nan\n",
      " 0.        ]\n",
      "price_index_i: 0\n",
      "profit_i_current_period: 0.0\n",
      "profit_opponent: 0.0\n"
     ]
    },
    {
     "data": {
      "text/plain": [
       "(array([0., 0., 0., 0., 0.]),\n",
       " array([0., 0., 0., 0., 0.]),\n",
       " array([0., 0., 0., 0., 0.]))"
      ]
     },
     "execution_count": 53,
     "metadata": {},
     "output_type": "execute_result"
    }
   ],
   "source": [
    "FictitiousPlay(P, 5, 0.95)"
   ]
  },
  {
   "cell_type": "code",
   "execution_count": 37,
   "metadata": {},
   "outputs": [],
   "source": [
    "@jit(nopython=True)\n",
    "def Simulations(simulations, price_grid, periods, discount_factor):\n",
    "    # Initialize profit and average profit arrays\n",
    "    total_profit_sim = np.zeros((simulations, periods))\n",
    "    profit_1_sim = np.zeros((simulations, periods))\n",
    "    profit_2_sim = np.zeros((simulations, periods))\n",
    "    avg_profit_1 = np.zeros(simulations)\n",
    "    avg_profit_2 = np.zeros(simulations)\n",
    "\n",
    "    for i in range(simulations):\n",
    "        total_profit_array, profit_1_array, profit_2_array = FictitiousPlay(price_grid, periods, discount_factor)\n",
    "        total_profit_sim[i] = total_profit_array\n",
    "        profit_1_sim[i] = profit_1_array\n",
    "        profit_2_sim[i] = profit_2_array\n",
    "        avg_profit_1[i] = np.mean(profit_1_array[-1000:]) # mean of the last 1000 periods # [Anders] Obvious, but why 1000? And why not all periods? \n",
    "        avg_profit_2[i] = np.mean(profit_2_array[-1000:]) # mean of the last 1000 periods\n",
    "\n",
    "    return total_profit_sim, avg_profit_1, avg_profit_2, profit_1_sim, profit_2_sim"
   ]
  },
  {
   "cell_type": "markdown",
   "metadata": {},
   "source": [
    "# Time calculation for 1000 simulations"
   ]
  },
  {
   "cell_type": "code",
   "execution_count": 38,
   "metadata": {},
   "outputs": [],
   "source": [
    "N_sim = 1_000 "
   ]
  },
  {
   "cell_type": "code",
   "execution_count": 39,
   "metadata": {},
   "outputs": [],
   "source": [
    "# ensure that numba is compiled \n",
    "_ = Simulations(10, P, 10, 0.95)"
   ]
  },
  {
   "cell_type": "code",
   "execution_count": 40,
   "metadata": {},
   "outputs": [],
   "source": [
    "# time 10 calls to the function\n",
    "start = time.time()\n",
    "Simulations(N_sim, P, 10, 0.95)\n",
    "end = time.time()\n",
    "\n",
    "time_per_period = (end - start) / 10"
   ]
  },
  {
   "cell_type": "code",
   "execution_count": 41,
   "metadata": {},
   "outputs": [
    {
     "name": "stdout",
     "output_type": "stream",
     "text": [
      "Starting run: expect   0.10 min\n",
      "Running time: 0.09 min\n"
     ]
    }
   ],
   "source": [
    "N_sim = 1000\n",
    "N_periods = 5_000\n",
    "print(f'Starting run: expect  {time_per_period * N_periods / 60. : 5.2f} min')\n",
    "\n",
    "start_time  = time.time()\n",
    "total_profit_plot, avg_profit_1_plot, avg_profit_2_plot, profit_total_1, profit_total_2 = Simulations(N_sim, P, N_periods, 0.95)\n",
    "end_time = time.time()\n",
    "\n",
    "print(f'Running time: {(end_time-start_time)/60.:.2f} min')"
   ]
  },
  {
   "cell_type": "markdown",
   "metadata": {},
   "source": [
    "# Profitability"
   ]
  },
  {
   "cell_type": "code",
   "execution_count": 42,
   "metadata": {},
   "outputs": [],
   "source": [
    "samlet_prof = total_profit_plot.mean(0)\n",
    "window_size = 10\n",
    "  \n",
    "i = 0\n",
    "# Initialize an empty list to store moving averages\n",
    "moving_averages = []\n",
    "# Loop through the array t o\n",
    "#consider every window of size 1000\n",
    "while i < len(samlet_prof) - window_size + 1:\n",
    "  \n",
    "    # Calculate the average of current window\n",
    "    window_average = np.sum(samlet_prof[i:i+window_size]) / window_size\n",
    "      \n",
    "    # Store the average of current\n",
    "    # window in moving average list\n",
    "    moving_averages.append(window_average)\n",
    "      \n",
    "    # Shift window to right by one position\n",
    "    i += 1"
   ]
  },
  {
   "cell_type": "code",
   "execution_count": 43,
   "metadata": {},
   "outputs": [
    {
     "data": {
      "image/png": "[encoded data removed]",
      "text/plain": [
       "<Figure size 640x480 with 1 Axes>"
      ]
     },
     "metadata": {},
     "output_type": "display_data"
    }
   ],
   "source": [
    "plt.plot(moving_averages, color='#a62626', label=\"Average profitability\")\n",
    "plt.xlabel('t')\n",
    "plt.ylabel('Avg. profitability')\n",
    "plt.ylim(0.00, 0.15)\n",
    "plt.hlines(y=0.0611, xmin=0, xmax=5000, colors='red', linestyles='--')\n",
    "plt.hlines(y=0.125, xmin=0, xmax=5000, colors='red', linestyles='--')\n",
    "plt.show()"
   ]
  },
  {
   "cell_type": "markdown",
   "metadata": {},
   "source": [
    "# Optimality"
   ]
  },
  {
   "cell_type": "code",
   "execution_count": 30,
   "metadata": {},
   "outputs": [],
   "source": [
    "def delta_prof(avg_array_1, avg_array_2, sim):\n",
    "    # What is delta? \n",
    "    # \"avg_array\": avg. of what? \n",
    "    together_array = np.vstack((avg_array_1, avg_array_2))\n",
    "    together_array_mean = np.mean(together_array, axis=0)\n",
    "    delta_1 = np.zeros(len(together_array_mean))\n",
    "    for i in range(sim):\n",
    "        delta_1[i] = ((together_array_mean[i]) / (0.125))\n",
    "    return delta_1"
   ]
  },
  {
   "cell_type": "code",
   "execution_count": 31,
   "metadata": {},
   "outputs": [],
   "source": [
    "#dividing delta into intervals\n",
    "# what is delta and why divide it into intervals?\n",
    "def delta_div(delta_arr):\n",
    "    new_delt = np.zeros(5) # why 5? \n",
    "    for i in range(len(delta_arr)):\n",
    "        if delta_arr[i] <=1 and delta_arr[i] > 0.9: \n",
    "        #if delta_arr[i] == 1 :\n",
    "            new_delt[4]+=1\n",
    "        elif delta_arr[i] <=0.9 and delta_arr[i] > 0.8:\n",
    "            new_delt[3]+=1\n",
    "        elif delta_arr[i] <=0.8 and delta_arr[i] > 0.7:\n",
    "            new_delt[2]+=1\n",
    "        elif delta_arr[i] <= 0.7 and delta_arr[i] > 0.6:\n",
    "            new_delt[1]+=1\n",
    "        else:\n",
    "            new_delt[0] +=1\n",
    "    return new_delt"
   ]
  },
  {
   "cell_type": "code",
   "execution_count": 32,
   "metadata": {},
   "outputs": [],
   "source": [
    "delta_1 = delta_prof(avg_profit_1_plot, avg_profit_2_plot, 1000)\n",
    "\n",
    "delta_2 = delta_div(delta_1)"
   ]
  },
  {
   "cell_type": "code",
   "execution_count": 33,
   "metadata": {},
   "outputs": [
    {
     "data": {
      "image/png": "[encoded data removed]",
      "text/plain": [
       "<Figure size 640x480 with 1 Axes>"
      ]
     },
     "metadata": {},
     "output_type": "display_data"
    }
   ],
   "source": [
    "def addlabels(x,y):\n",
    "    for i in range(len(x)):\n",
    "        plt.text(i,y[i],y[i])\n",
    "\n",
    "langs = ['[0.5 : 0.6]', ']0.6 : 0.7]', ']0.7 : 0.8]', ']0.8 : 0.9]', ']0.9 : 1]']\n",
    "\n",
    "y_pos = np.arange(len(langs))\n",
    "\n",
    "plt.title(\"Distribution of $\\Delta$\")\n",
    "# Create bars\n",
    "plt.bar(y_pos, delta_2)\n",
    "\n",
    "addlabels(langs, delta_2 )\n",
    "# Create names on the x-axis\n",
    "plt.xticks(y_pos, langs)\n",
    "plt.xlabel(\"$\\Delta$\")\n",
    "plt.ylabel(\"Frequency\")\n",
    "#make label\n",
    "label = [delta_2]\n",
    "# Show graphic\n",
    "plt.show()"
   ]
  },
  {
   "cell_type": "markdown",
   "metadata": {},
   "source": [
    "# Heatmap"
   ]
  },
  {
   "cell_type": "code",
   "execution_count": null,
   "metadata": {},
   "outputs": [
    {
     "data": {
      "image/png": "[encoded data removed]",
      "text/plain": [
       "<Figure size 640x480 with 2 Axes>"
      ]
     },
     "metadata": {},
     "output_type": "display_data"
    }
   ],
   "source": [
    "x_bins = np.linspace(0, 0.15, 15)\n",
    "y_bins = np.linspace(0, 0.15, 15)\n",
    "\n",
    "heatmap, xedges, yedges = np.histogram2d(avg_profit_1_plot, avg_profit_2_plot, bins=[x_bins, y_bins])\n",
    "extent = [xedges[0], xedges[-1], yedges[0], yedges[-1]]\n",
    "\n",
    "plt.clf()\n",
    "plt.imshow(heatmap.T, extent=extent, origin='lower', cmap='Blues', aspect='auto')\n",
    "cb = plt.colorbar()\n",
    "cb.set_label('Antal observationer')\n",
    "plt.xlabel(\"Firm 1\")\n",
    "plt.ylabel(\"Firm 2\")\n",
    "\n",
    "plt.show()"
   ]
  },
  {
   "cell_type": "code",
   "execution_count": null,
   "metadata": {},
   "outputs": [],
   "source": []
  }
 ],
 "metadata": {
  "kernelspec": {
   "display_name": "Python 3.11.3 ('homebrew')",
   "language": "python",
   "name": "python3"
  },
  "language_info": {
   "codemirror_mode": {
    "name": "ipython",
    "version": 3
   },
   "file_extension": ".py",
   "mimetype": "text/x-python",
   "name": "python",
   "nbconvert_exporter": "python",
   "pygments_lexer": "ipython3",
   "version": "3.11.3"
  },
  "orig_nbformat": 4,
  "vscode": {
   "interpreter": {
    "hash": "5c7b89af1651d0b8571dde13640ecdccf7d5a6204171d6ab33e7c296e100e08a"
   }
  }
 },
 "nbformat": 4,
 "nbformat_minor": 2
}
