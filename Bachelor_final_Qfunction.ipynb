{
 "cells": [
  {
   "cell_type": "code",
   "execution_count": 1,
   "metadata": {},
   "outputs": [],
   "source": [
    "import random\n",
    "import numpy as np\n",
    "import matplotlib\n",
    "import time\n",
    "from numba import jit\n",
    "import multiprocessing as mp\n",
    "from matplotlib import pyplot as plt"
   ]
  },
  {
   "cell_type": "code",
   "execution_count": 2,
   "metadata": {},
   "outputs": [],
   "source": [
    "@jit(nopython=True)\n",
    "def demand(p1, p2):\n",
    "    if p1 < p2:\n",
    "        d = 1 - p1\n",
    "    elif p1 == p2:\n",
    "        d = 0.5 * (1 - p1)\n",
    "    else:\n",
    "        d = 0\n",
    "    return d"
   ]
  },
  {
   "cell_type": "markdown",
   "metadata": {},
   "source": [
    "# Profit function"
   ]
  },
  {
   "cell_type": "code",
   "execution_count": 3,
   "metadata": {},
   "outputs": [],
   "source": [
    "@jit(nopython=True)\n",
    "def profit(p1, p2):\n",
    "    return (p1 * demand(p1, p2))"
   ]
  },
  {
   "cell_type": "code",
   "execution_count": 4,
   "metadata": {},
   "outputs": [],
   "source": [
    "P = np.array([0, 1/6, 2/6, 3/6, 4/6, 5/6, 1]) # price array"
   ]
  },
  {
   "cell_type": "markdown",
   "metadata": {},
   "source": [
    "# Epsilon greedy hjælpefunktion"
   ]
  },
  {
   "cell_type": "code",
   "execution_count": 5,
   "metadata": {},
   "outputs": [],
   "source": [
    "@jit(nopython=True)\n",
    "def epsilon_greedy(Qtable, epsilon, uniform, state: int, price_grid: np.ndarray) -> int: \n",
    "    N = len(price_grid)\n",
    "    assert Qtable.shape[0] == N, \"Qtable must have the same number of rows as there are prices in the grid\"\n",
    "    assert Qtable.shape[1] == N, \"Qtable must have the same number of columns as there are prices in the grid\"\n",
    "    assert state < N, \"state must be a valid index in the price grid\"\n",
    "    assert state >= 0, \"state must be a valid index in the price grid\"\n",
    "\n",
    "    # Draw action \n",
    "    if uniform < epsilon:\n",
    "        price_index = np.random.choice(N)\n",
    "    else:\n",
    "        price_index = np.argmax(Qtable[:, state])\n",
    "    return price_index"
   ]
  },
  {
   "cell_type": "markdown",
   "metadata": {},
   "source": [
    "# Q-learning and simulation function"
   ]
  },
  {
   "cell_type": "code",
   "execution_count": 6,
   "metadata": {},
   "outputs": [],
   "source": [
    "@jit(nopython=True)\n",
    "def Qfunction(price_grid, period, delta, alpha, theta):\n",
    "    # Initialize prices and Q-tables\n",
    "    price_index_i = np.random.choice(len(price_grid)) \n",
    "    price_index_j = np.random.choice(len(price_grid)) \n",
    "\n",
    "    Qtable_i = np.zeros((len(price_grid), len(price_grid)))\n",
    "    Qtable_j = np.zeros((len(price_grid), len(price_grid)))\n",
    "    Qtable_temp = np.zeros((len(price_grid), len(price_grid)))\n",
    "\n",
    "    price_lists = np.zeros((int(period+1), int(2)))\n",
    "    profit_1 = np.zeros(int(period))\n",
    "    profit_2 = np.zeros(int(period))\n",
    "\n",
    "    total_profit = np.zeros(period)\n",
    "\n",
    "    epsilons = (1 - theta)**np.arange(period + 1)\n",
    "    uniforms = np.random.uniform(0, 1, (period + 1, 2))\n",
    "\n",
    "    for t in range(1, period + 1):\n",
    "        state = price_index_j # the most recent draw of player i's price\n",
    "        \n",
    "        # figure out who's turn it is\n",
    "        if t % 2 == 0:\n",
    "            # player 2 is the responder\n",
    "            player_index = 1\n",
    "            opponent_index = 0\n",
    "        else:\n",
    "            # player 1 is the responder\n",
    "            player_index = 0\n",
    "            opponent_index = 1\n",
    "\n",
    "        # current period \n",
    "        decision = price_grid[price_index_i]\n",
    "        state_i_responds_to = price_grid[state]\n",
    "        profit_i_current_period = profit(decision, state_i_responds_to)\n",
    "\n",
    "        # next period \n",
    "        state_next_period = price_index_i # next_period's state is today's price\n",
    "        price_index_j_next_period = epsilon_greedy(Qtable_j, epsilons[t], uniforms[t, opponent_index], state=state_next_period, price_grid=price_grid)\n",
    "\n",
    "        price_j_next_period = price_grid[price_index_j_next_period]\n",
    "        price_i_next_period = price_grid[price_index_i] # unchanged price, it's not i's turn \n",
    "        profit_i_next_period = profit(price_i_next_period, price_j_next_period)\n",
    "\n",
    "        max_Q = np.max(Qtable_i[:, price_index_j_next_period])\n",
    "        continuation_value = max_Q \n",
    "\n",
    "        new_estimate = profit_i_current_period + delta * profit_i_next_period + delta**2 * continuation_value\n",
    "\n",
    "        # Update\n",
    "        prev_estimate = Qtable_i[price_index_i, state]\n",
    "\n",
    "        # Update Q-table for player i\n",
    "        Qtable_i[price_index_i, state] = (1 - alpha) * prev_estimate + alpha * new_estimate\n",
    "\n",
    "        # Profit opponent \n",
    "        profit_opponent = profit(state_i_responds_to, decision)\n",
    "        \n",
    "        # Profit\n",
    "        total_profit[t-1] = (profit_i_current_period + profit_opponent) / 2\n",
    "\n",
    "\n",
    "         # Update for the next iteration: Use the simulated next period's action as the actual action for the opponent\n",
    "        if t % 2 == 0:\n",
    "            profit_1[t-1] = profit_opponent\n",
    "            profit_2[t-1] = profit_i_current_period\n",
    "        else:\n",
    "            profit_1[t-1] = profit_i_current_period\n",
    "            profit_2[t-1] = profit_opponent\n",
    "\n",
    "        # Switch player for next period\n",
    "        Qtable_temp = Qtable_j\n",
    "        Qtable_j = Qtable_i\n",
    "        Qtable_i = Qtable_temp\n",
    "        price_index_j = price_index_i\n",
    "        price_index_i = price_index_j_next_period\n",
    "        \n",
    "\n",
    "    return total_profit, profit_1, profit_2\n",
    "\n",
    "\n",
    "@jit(nopython=True)\n",
    "def Simulations(sim, price, period, delta, alpha, theta):\n",
    "    total_profit_sim = np.zeros((sim, period))\n",
    "    profit_1_sim = np.zeros((sim, period))\n",
    "    profit_2_sim = np.zeros((sim, period))\n",
    "    avg_profit = np.zeros(sim)\n",
    "    avg_profit_1 = np.zeros(sim)\n",
    "    avg_profit_2 = np.zeros(sim)\n",
    "\n",
    "    for i in range(sim):\n",
    "        total_profit_array, profit_1_array, profit_2_array = Qfunction(price, period, delta, alpha, theta)\n",
    "        total_profit_sim[i] = total_profit_array\n",
    "        profit_1_sim[i] = profit_1_array\n",
    "        profit_2_sim[i] = profit_2_array\n",
    "        avg_profit_1[i] = np.mean(profit_1_array[-1000:])\n",
    "        avg_profit_2[i] = np.mean(profit_2_array[-1000:])\n",
    "        avg_profit[i] = np.mean(total_profit_array[-1000:])\n",
    "\n",
    "    return total_profit_sim, avg_profit_1, avg_profit_2, profit_1_sim, profit_2_sim"
   ]
  },
  {
   "cell_type": "markdown",
   "metadata": {},
   "source": [
    "# Time calculation for 1000 simulations"
   ]
  },
  {
   "cell_type": "code",
   "execution_count": 7,
   "metadata": {},
   "outputs": [
    {
     "name": "stdout",
     "output_type": "stream",
     "text": [
      "Time taken to run 1000 simulations: 31.306984901428223 seconds\n"
     ]
    }
   ],
   "source": [
    "start_time  = time.time()\n",
    "\n",
    "total_profit_plot, avg_profit_1_plot, avg_profit_2_plot, profit_total_1, profit_total_2 = Simulations(1000, P, 500000, 0.95, 0.3, 0.0000276306)\n",
    "\n",
    "end_time = time.time()\n",
    "\n",
    "elapsed_time = end_time - start_time\n",
    "\n",
    "print(\"Time taken to run 1000 simulations:\", elapsed_time, \"seconds\")"
   ]
  },
  {
   "cell_type": "markdown",
   "metadata": {},
   "source": [
    "# Optimality"
   ]
  },
  {
   "cell_type": "code",
   "execution_count": 8,
   "metadata": {},
   "outputs": [],
   "source": [
    "def delta_prof(avg_array_1, avg_array_2, sim):\n",
    "    together_array = np.vstack((avg_array_1, avg_array_2))\n",
    "    together_array_mean = np.mean(together_array, axis=0)\n",
    "    delta_1 = np.zeros(len(together_array_mean))\n",
    "    for i in range(sim):\n",
    "        delta_1[i] = ((together_array_mean[i]) / (0.125))\n",
    "    return delta_1"
   ]
  },
  {
   "cell_type": "code",
   "execution_count": 9,
   "metadata": {},
   "outputs": [],
   "source": [
    "#dividing delta into intervals\n",
    "def delta_div(delta_arr):\n",
    "    new_delt = np.zeros(5)\n",
    "    for i in range(len(delta_arr)):\n",
    "        if delta_arr[i] <=1 and delta_arr[i] > 0.9: \n",
    "        #if delta_arr[i] == 1 :\n",
    "            new_delt[4]+=1\n",
    "        elif delta_arr[i] <=0.9 and delta_arr[i] > 0.8:\n",
    "            new_delt[3]+=1\n",
    "        elif delta_arr[i] <=0.8 and delta_arr[i] > 0.7:\n",
    "            new_delt[2]+=1\n",
    "        elif delta_arr[i] <= 0.7 and delta_arr[i] > 0.6:\n",
    "            new_delt[1]+=1\n",
    "        else:\n",
    "            new_delt[0] +=1\n",
    "    return new_delt"
   ]
  },
  {
   "cell_type": "code",
   "execution_count": 10,
   "metadata": {},
   "outputs": [],
   "source": [
    "delta_1 = delta_prof(avg_profit_1_plot, avg_profit_2_plot, 1000)\n",
    "\n",
    "delta_2 = delta_div(delta_1)\n",
    "\n"
   ]
  },
  {
   "cell_type": "code",
   "execution_count": 11,
   "metadata": {},
   "outputs": [
    {
     "data": {
      "image/png": "[encoded data removed]",
      "text/plain": [
       "<Figure size 640x480 with 1 Axes>"
      ]
     },
     "metadata": {},
     "output_type": "display_data"
    }
   ],
   "source": [
    "def addlabels(x,y):\n",
    "    for i in range(len(x)):\n",
    "        plt.text(i,y[i],y[i])\n",
    "\n",
    "langs = ['[0.5 : 0.6]', ']0.6 : 0.7]', ']0.7 : 0.8]', ']0.8 : 0.9]', ']0.9 : 1]']\n",
    "\n",
    "y_pos = np.arange(len(langs))\n",
    "\n",
    "plt.title(\"Distribution of $\\Delta$\")\n",
    "# Create bars\n",
    "plt.bar(y_pos, delta_2)\n",
    "\n",
    "addlabels(langs, delta_2 )\n",
    "# Create names on the x-axis\n",
    "plt.xticks(y_pos, langs)\n",
    "plt.xlabel(\"$\\Delta$\")\n",
    "plt.ylabel(\"Frequency\")\n",
    "#make label\n",
    "label = [delta_2]\n",
    "# Show graphic\n",
    "plt.show()"
   ]
  },
  {
   "cell_type": "markdown",
   "metadata": {},
   "source": [
    "# Profitability"
   ]
  },
  {
   "cell_type": "code",
   "execution_count": 12,
   "metadata": {},
   "outputs": [],
   "source": [
    "samlet_prof = total_profit_plot.mean(0)\n",
    "window_size = 1000\n",
    "  \n",
    "i = 0\n",
    "# Initialize an empty list to store moving averages\n",
    "moving_averages = []\n",
    "# Loop through the array t o\n",
    "#consider every window of size 1000\n",
    "while i < len(samlet_prof) - window_size + 1:\n",
    "  \n",
    "    # Calculate the average of current window\n",
    "    window_average = np.sum(samlet_prof[i:i+window_size]) / window_size\n",
    "      \n",
    "    # Store the average of current\n",
    "    # window in moving average list\n",
    "    moving_averages.append(window_average)\n",
    "      \n",
    "    # Shift window to right by one position\n",
    "    i += 1"
   ]
  },
  {
   "cell_type": "code",
   "execution_count": 13,
   "metadata": {},
   "outputs": [
    {
     "data": {
      "image/png": "[encoded data removed]",
      "text/plain": [
       "<Figure size 640x480 with 1 Axes>"
      ]
     },
     "metadata": {},
     "output_type": "display_data"
    }
   ],
   "source": [
    "plt.plot(moving_averages, color='#a62626', label=\"Average profitability\")\n",
    "plt.xlabel('t')\n",
    "plt.ylabel('Avg. profitability')\n",
    "plt.ylim(0.00, 0.15)\n",
    "plt.hlines(y=0.0611, xmin=0, xmax=500000, colors='red', linestyles='--')\n",
    "plt.hlines(y=0.125, xmin=0, xmax=500000, colors='red', linestyles='--')\n",
    "plt.show()"
   ]
  },
  {
   "cell_type": "markdown",
   "metadata": {},
   "source": [
    "# Heatmap"
   ]
  },
  {
   "cell_type": "code",
   "execution_count": 42,
   "metadata": {},
   "outputs": [
    {
     "data": {
      "image/png": "[encoded data removed]",
      "text/plain": [
       "<Figure size 640x480 with 2 Axes>"
      ]
     },
     "metadata": {},
     "output_type": "display_data"
    }
   ],
   "source": [
    "x_bins = np.linspace(0, 0.15, 15)\n",
    "y_bins = np.linspace(0, 0.15, 15)\n",
    "\n",
    "heatmap, xedges, yedges = np.histogram2d(avg_profit_1_plot, avg_profit_2_plot, bins=[x_bins, y_bins])\n",
    "extent = [xedges[0], xedges[-1], yedges[0], yedges[-1]]\n",
    "\n",
    "plt.clf()\n",
    "plt.imshow(heatmap.T, extent=extent, origin='lower', cmap='Blues', aspect='auto')\n",
    "cb = plt.colorbar()\n",
    "cb.set_label('Antal observationer')\n",
    "plt.xlabel(\"Firm 1\")\n",
    "plt.ylabel(\"Firm 2\")\n",
    "\n",
    "plt.show()"
   ]
  },
  {
   "cell_type": "code",
   "execution_count": null,
   "metadata": {},
   "outputs": [],
   "source": []
  }
 ],
 "metadata": {
  "kernelspec": {
   "display_name": "Python 3.11.3 ('homebrew')",
   "language": "python",
   "name": "python3"
  },
  "language_info": {
   "codemirror_mode": {
    "name": "ipython",
    "version": 3
   },
   "file_extension": ".py",
   "mimetype": "text/x-python",
   "name": "python",
   "nbconvert_exporter": "python",
   "pygments_lexer": "ipython3",
   "version": "3.11.3"
  },
  "vscode": {
   "interpreter": {
    "hash": "5c7b89af1651d0b8571dde13640ecdccf7d5a6204171d6ab33e7c296e100e08a"
   }
  }
 },
 "nbformat": 4,
 "nbformat_minor": 2
}
