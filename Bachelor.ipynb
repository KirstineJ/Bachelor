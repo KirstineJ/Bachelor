{
 "cells": [
  {
   "cell_type": "code",
   "execution_count": 2,
   "metadata": {},
   "outputs": [],
   "source": [
    "import random\n",
    "import numpy as np\n",
    "import matplotlib\n",
    "import time\n",
    "import multiprocessing as mp\n",
    "from matplotlib import pyplot as plt"
   ]
  },
  {
   "cell_type": "code",
   "execution_count": 47,
   "metadata": {},
   "outputs": [],
   "source": [
    "np.random.seed(222)"
   ]
  },
  {
   "cell_type": "code",
   "execution_count": 48,
   "metadata": {},
   "outputs": [],
   "source": [
    "def Demand(p1, p2):\n",
    "    if p1 < p2:\n",
    "        return (1 - p1)\n",
    "    elif p1 > p2:\n",
    "        return 0\n",
    "    else:\n",
    "        return (0.5 * (1 - p1))"
   ]
  },
  {
   "cell_type": "code",
   "execution_count": 49,
   "metadata": {},
   "outputs": [],
   "source": [
    "def Profit(p1, p2):\n",
    "    return (p1 * Demand(p1, p2))"
   ]
  },
  {
   "cell_type": "code",
   "execution_count": 50,
   "metadata": {},
   "outputs": [],
   "source": [
    "P = np.array([0, 1/6, 2/6, 3/6, 4/6, 5/6, 1])"
   ]
  },
  {
   "cell_type": "code",
   "execution_count": 72,
   "metadata": {},
   "outputs": [],
   "source": [
    "def Qfunction(price, period, delta, alpha, theta):\n",
    "    # Initialize prices and Q-tables\n",
    "    price1 = int(np.random.choice(len(price))) # index i matrix kan ikke være en float\n",
    "    price2 = 0\n",
    "\n",
    "    price1_list = []\n",
    "    price2_list = []\n",
    "\n",
    "    state = 0\n",
    "\n",
    "    Qtable_1 = np.zeros((len(price), len(price)))\n",
    "    Qtable_2 = np.zeros((len(price), len(price)))\n",
    "\n",
    "    profit_1_list = [] # kan måske slettes senere\n",
    "    profit_2_list = [] # kan måske slettes senere\n",
    "\n",
    "    profit_1_avg = 0\n",
    "    profit_2_avg = 0\n",
    "    Avg_profit = 0\n",
    "\n",
    "\n",
    "    t = 3\n",
    "    i = 1\n",
    "    j = 2\n",
    "\n",
    "    for t in range(t, period + 1):\n",
    "        epsilon = (1 - theta)**t\n",
    "        #print(\"t = \", t)\n",
    "        if (t % 2) != 0:\n",
    "            #print(\"Firm 1\\n\")\n",
    "\n",
    "            # Previous estimate\n",
    "            prev_estimate = Qtable_1[price1, price2]\n",
    "            #print(\"price1:\\n\", price1)\n",
    "            #print(\"price2:\\n\", price2)\n",
    "            #print(\"prev_estimate:\\n\", prev_estimate)\n",
    "\n",
    "            # New estimate\n",
    "            profit_current_state = Profit(price[price1], price[price2])\n",
    "            #print(\"profit_current_state:\\n\", profit_current_state)\n",
    "\n",
    "            profit_next_state = delta * Profit(price[price1], price[state])\n",
    "            #print(\"state:\\n\", state)\n",
    "            #print(\"profit_next_state:\\n\", profit_next_state)\n",
    "\n",
    "            max_Q = np.argmax(Qtable_1[:, state])\n",
    "            #print(\"Qtable_1:\\n\", Qtable_1[:, state])\n",
    "            #print(\"Max_Q:\\n\", max_Q)\n",
    "\n",
    "            max_Q_next_state = delta**2 * max_Q\n",
    "            #print(\"max_Q_next_state:\\n\", max_Q_next_state)\n",
    "\n",
    "            new_estimate = profit_current_state + profit_next_state + max_Q_next_state\n",
    "            #print(\"new_estimate:\\n\", new_estimate)\n",
    "\n",
    "            # Update\n",
    "            Qtable_1[price1, price2] = (1 - alpha) * prev_estimate + alpha * new_estimate\n",
    "            #print(\"Qtable_1:\\n\", Qtable_1)\n",
    "\n",
    "            # Set p_it\n",
    "            if np.random.uniform(0,1) < epsilon:\n",
    "                price1 = int(np.random.choice(len(price)))\n",
    "                #print(\"Random\\n\")\n",
    "            else:\n",
    "                state = price2\n",
    "                #print(\"state:\", state)\n",
    "                price1 = np.argmax(Qtable_1[:, state])\n",
    "                #print(\"Max\\n\")\n",
    "            \n",
    "            #print(\"pris1:\\n\", price1)\n",
    "\n",
    "            state = price1\n",
    "            #print(\"state:\", state)\n",
    "\n",
    "            price1_list.append(price[price1])\n",
    "            profit_1_list.append(profit_current_state)\n",
    "\n",
    "            if t >= (period + 1) - 1000:\n",
    "                Avg_profit +=profit_current_state\n",
    "            #print(\"1\", price1_list)\n",
    "\n",
    "        else:\n",
    "            #print(\"Firm 2\\n\")\n",
    "            # Previous estimate\n",
    "            prev_estimate = Qtable_2[price2, state]\n",
    "            #print(\"price2:\\n\", price2)\n",
    "            #print(\"state:\\n\", state)\n",
    "            #print(\"prev_estimate:\\n\", prev_estimate)\n",
    "\n",
    "            # New estimate\n",
    "            profit_current_state = Profit(price[price2], price[price1])\n",
    "            #print(\"price1:\\n\", price1)\n",
    "            #print(\"profit_current_state:\\n\", profit_current_state)\n",
    "\n",
    "            profit_next_state = delta * Profit(price[price2], price[state])\n",
    "            #print(\"profit_next_state:\\n\", profit_next_state)\n",
    "\n",
    "            max_Q = np.argmax(Qtable_2[:, state])\n",
    "            #print(\"Qtable_2:\\n\", Qtable_2[:, state])\n",
    "            #print(\"Max_Q:\\n\", max_Q)\n",
    "\n",
    "            max_Q_next_state = delta**2 * max_Q\n",
    "            #print(\"max_Q_next_state:\\n\", max_Q_next_state)\n",
    "\n",
    "            new_estimate = profit_current_state + profit_next_state + max_Q_next_state\n",
    "            #print(\"new_estimate:\\n\", new_estimate)\n",
    "\n",
    "            # Update\n",
    "            Qtable_2[price2, state] = (1 - alpha) * prev_estimate + alpha * new_estimate \n",
    "            #print(\"Qtable_2:\\n\", Qtable_2)\n",
    "\n",
    "            # Set p_jt\n",
    "            if np.random.uniform(0,1) < epsilon:\n",
    "                price2 = int(np.random.choice(len(price)))\n",
    "                #print(\"Random:\\n\")\n",
    "            else:\n",
    "                state = price1\n",
    "                #print(\"state:\", state)\n",
    "                price2 = np.argmax(Qtable_2[:, state])\n",
    "                #print(\"Max\\n\")\n",
    "            #print(\"pris2:\\n\", price2)\n",
    "\n",
    "\n",
    "            state = price2\n",
    "            #print(\"state:\", state)\n",
    "\n",
    "            price2_list.append(price[price2])\n",
    "            profit_2_list.append(profit_current_state)\n",
    "\n",
    "            if t >= (period + 1) - 1000:\n",
    "                Avg_profit +=profit_current_state\n",
    "            #print(\"2\", price2_list)\n",
    "\n",
    "        # Update t, i and j\n",
    "        t = t + 1\n",
    "        i = j\n",
    "        j = i\n",
    "\n",
    "        Final_profit = Avg_profit/1000\n",
    "   \n",
    "    return Qtable_1, Qtable_2, price1_list, price2_list, Final_profit\n",
    "\n",
    "def Simulations(sim, price, period, delta, alpha, theta):\n",
    "    Qtable1_list = []\n",
    "    Qtable2_list = []\n",
    "    price1_list = []\n",
    "    price2_list = []\n",
    "\n",
    "    for i in range(sim):\n",
    "        Qtable1, Qtable2, price1, price2 = Qfunction(price, period, delta, alpha, theta)\n",
    "        Qtable1_list.append(Qtable1)\n",
    "        Qtable2_list.append(Qtable2)\n",
    "        price1_list.append(price1)\n",
    "        price2_list.append(price2)\n",
    "\n",
    "    return price1_list, price2_list"
   ]
  },
  {
   "cell_type": "code",
   "execution_count": 73,
   "metadata": {},
   "outputs": [
    {
     "name": "stdout",
     "output_type": "stream",
     "text": [
      "0.08588888888888972\n"
     ]
    }
   ],
   "source": [
    "#print(Simulations(2, P, 500000, 0.95, 0.3, 0.0000276306))\n",
    "np.random.seed(387)\n",
    "Q1, Q2, p1, p2, pro_avg = Qfunction(P, 50000, 0.95, 0.3, 0.000276272)\n",
    "Time_1 = np.arange(0, 49998, 2)\n",
    "Time_2 = np.arange(1, 49999, 2)\n",
    "Time_T = np.arange(500000)\n",
    "print(pro_avg)"
   ]
  },
  {
   "cell_type": "code",
   "execution_count": 74,
   "metadata": {},
   "outputs": [
    {
     "ename": "ValueError",
     "evalue": "x and y must have same first dimension, but have shapes (24999,) and (1,)",
     "output_type": "error",
     "traceback": [
      "\u001b[0;31m---------------------------------------------------------------------------\u001b[0m",
      "\u001b[0;31mValueError\u001b[0m                                Traceback (most recent call last)",
      "Cell \u001b[0;32mIn[74], line 5\u001b[0m\n\u001b[1;32m      2\u001b[0m x2 \u001b[38;5;241m=\u001b[39m np\u001b[38;5;241m.\u001b[39marange(\u001b[38;5;241m0\u001b[39m, \u001b[38;5;241m249999\u001b[39m)\n\u001b[1;32m      3\u001b[0m Y \u001b[38;5;241m=\u001b[39m p1    \n\u001b[0;32m----> 5\u001b[0m \u001b[43mplt\u001b[49m\u001b[38;5;241;43m.\u001b[39;49m\u001b[43mplot\u001b[49m\u001b[43m(\u001b[49m\u001b[43mTime_1\u001b[49m\u001b[43m,\u001b[49m\u001b[43m \u001b[49m\u001b[43mpro_avg\u001b[49m\u001b[43m,\u001b[49m\u001b[43m \u001b[49m\u001b[43mlabel\u001b[49m\u001b[43m \u001b[49m\u001b[38;5;241;43m=\u001b[39;49m\u001b[43m \u001b[49m\u001b[38;5;124;43m'\u001b[39;49m\u001b[38;5;124;43mP1\u001b[39;49m\u001b[38;5;124;43m'\u001b[39;49m\u001b[43m,\u001b[49m\u001b[43m \u001b[49m\u001b[43mlinestyle\u001b[49m\u001b[38;5;241;43m=\u001b[39;49m\u001b[38;5;124;43m'\u001b[39;49m\u001b[38;5;124;43m--\u001b[39;49m\u001b[38;5;124;43m'\u001b[39;49m\u001b[43m)\u001b[49m\n\u001b[1;32m      6\u001b[0m \u001b[38;5;66;03m#plt.plot(Time_2, pro2, label = 'P2', linestyle='-')\u001b[39;00m\n\u001b[1;32m      8\u001b[0m plt\u001b[38;5;241m.\u001b[39mshow()\n",
      "File \u001b[0;32m/opt/homebrew/lib/python3.11/site-packages/matplotlib/pyplot.py:2785\u001b[0m, in \u001b[0;36mplot\u001b[0;34m(scalex, scaley, data, *args, **kwargs)\u001b[0m\n\u001b[1;32m   2783\u001b[0m \u001b[39m@_copy_docstring_and_deprecators\u001b[39m(Axes\u001b[39m.\u001b[39mplot)\n\u001b[1;32m   2784\u001b[0m \u001b[39mdef\u001b[39;00m \u001b[39mplot\u001b[39m(\u001b[39m*\u001b[39margs, scalex\u001b[39m=\u001b[39m\u001b[39mTrue\u001b[39;00m, scaley\u001b[39m=\u001b[39m\u001b[39mTrue\u001b[39;00m, data\u001b[39m=\u001b[39m\u001b[39mNone\u001b[39;00m, \u001b[39m*\u001b[39m\u001b[39m*\u001b[39mkwargs):\n\u001b[0;32m-> 2785\u001b[0m     \u001b[39mreturn\u001b[39;00m gca()\u001b[39m.\u001b[39;49mplot(\n\u001b[1;32m   2786\u001b[0m         \u001b[39m*\u001b[39;49margs, scalex\u001b[39m=\u001b[39;49mscalex, scaley\u001b[39m=\u001b[39;49mscaley,\n\u001b[1;32m   2787\u001b[0m         \u001b[39m*\u001b[39;49m\u001b[39m*\u001b[39;49m({\u001b[39m\"\u001b[39;49m\u001b[39mdata\u001b[39;49m\u001b[39m\"\u001b[39;49m: data} \u001b[39mif\u001b[39;49;00m data \u001b[39mis\u001b[39;49;00m \u001b[39mnot\u001b[39;49;00m \u001b[39mNone\u001b[39;49;00m \u001b[39melse\u001b[39;49;00m {}), \u001b[39m*\u001b[39;49m\u001b[39m*\u001b[39;49mkwargs)\n",
      "File \u001b[0;32m/opt/homebrew/lib/python3.11/site-packages/matplotlib/axes/_axes.py:1688\u001b[0m, in \u001b[0;36mAxes.plot\u001b[0;34m(self, scalex, scaley, data, *args, **kwargs)\u001b[0m\n\u001b[1;32m   1445\u001b[0m \u001b[39m\u001b[39m\u001b[39m\"\"\"\u001b[39;00m\n\u001b[1;32m   1446\u001b[0m \u001b[39mPlot y versus x as lines and/or markers.\u001b[39;00m\n\u001b[1;32m   1447\u001b[0m \n\u001b[0;32m   (...)\u001b[0m\n\u001b[1;32m   1685\u001b[0m \u001b[39m(``'green'``) or hex strings (``'#008000'``).\u001b[39;00m\n\u001b[1;32m   1686\u001b[0m \u001b[39m\"\"\"\u001b[39;00m\n\u001b[1;32m   1687\u001b[0m kwargs \u001b[39m=\u001b[39m cbook\u001b[39m.\u001b[39mnormalize_kwargs(kwargs, mlines\u001b[39m.\u001b[39mLine2D)\n\u001b[0;32m-> 1688\u001b[0m lines \u001b[39m=\u001b[39m [\u001b[39m*\u001b[39m\u001b[39mself\u001b[39m\u001b[39m.\u001b[39m_get_lines(\u001b[39m*\u001b[39margs, data\u001b[39m=\u001b[39mdata, \u001b[39m*\u001b[39m\u001b[39m*\u001b[39mkwargs)]\n\u001b[1;32m   1689\u001b[0m \u001b[39mfor\u001b[39;00m line \u001b[39min\u001b[39;00m lines:\n\u001b[1;32m   1690\u001b[0m     \u001b[39mself\u001b[39m\u001b[39m.\u001b[39madd_line(line)\n",
      "File \u001b[0;32m/opt/homebrew/lib/python3.11/site-packages/matplotlib/axes/_base.py:311\u001b[0m, in \u001b[0;36m_process_plot_var_args.__call__\u001b[0;34m(self, data, *args, **kwargs)\u001b[0m\n\u001b[1;32m    309\u001b[0m     this \u001b[39m+\u001b[39m\u001b[39m=\u001b[39m args[\u001b[39m0\u001b[39m],\n\u001b[1;32m    310\u001b[0m     args \u001b[39m=\u001b[39m args[\u001b[39m1\u001b[39m:]\n\u001b[0;32m--> 311\u001b[0m \u001b[39myield from\u001b[39;00m \u001b[39mself\u001b[39;49m\u001b[39m.\u001b[39;49m_plot_args(\n\u001b[1;32m    312\u001b[0m     this, kwargs, ambiguous_fmt_datakey\u001b[39m=\u001b[39;49mambiguous_fmt_datakey)\n",
      "File \u001b[0;32m/opt/homebrew/lib/python3.11/site-packages/matplotlib/axes/_base.py:504\u001b[0m, in \u001b[0;36m_process_plot_var_args._plot_args\u001b[0;34m(self, tup, kwargs, return_kwargs, ambiguous_fmt_datakey)\u001b[0m\n\u001b[1;32m    501\u001b[0m     \u001b[39mself\u001b[39m\u001b[39m.\u001b[39maxes\u001b[39m.\u001b[39myaxis\u001b[39m.\u001b[39mupdate_units(y)\n\u001b[1;32m    503\u001b[0m \u001b[39mif\u001b[39;00m x\u001b[39m.\u001b[39mshape[\u001b[39m0\u001b[39m] \u001b[39m!=\u001b[39m y\u001b[39m.\u001b[39mshape[\u001b[39m0\u001b[39m]:\n\u001b[0;32m--> 504\u001b[0m     \u001b[39mraise\u001b[39;00m \u001b[39mValueError\u001b[39;00m(\u001b[39mf\u001b[39m\u001b[39m\"\u001b[39m\u001b[39mx and y must have same first dimension, but \u001b[39m\u001b[39m\"\u001b[39m\n\u001b[1;32m    505\u001b[0m                      \u001b[39mf\u001b[39m\u001b[39m\"\u001b[39m\u001b[39mhave shapes \u001b[39m\u001b[39m{\u001b[39;00mx\u001b[39m.\u001b[39mshape\u001b[39m}\u001b[39;00m\u001b[39m and \u001b[39m\u001b[39m{\u001b[39;00my\u001b[39m.\u001b[39mshape\u001b[39m}\u001b[39;00m\u001b[39m\"\u001b[39m)\n\u001b[1;32m    506\u001b[0m \u001b[39mif\u001b[39;00m x\u001b[39m.\u001b[39mndim \u001b[39m>\u001b[39m \u001b[39m2\u001b[39m \u001b[39mor\u001b[39;00m y\u001b[39m.\u001b[39mndim \u001b[39m>\u001b[39m \u001b[39m2\u001b[39m:\n\u001b[1;32m    507\u001b[0m     \u001b[39mraise\u001b[39;00m \u001b[39mValueError\u001b[39;00m(\u001b[39mf\u001b[39m\u001b[39m\"\u001b[39m\u001b[39mx and y can be no greater than 2D, but have \u001b[39m\u001b[39m\"\u001b[39m\n\u001b[1;32m    508\u001b[0m                      \u001b[39mf\u001b[39m\u001b[39m\"\u001b[39m\u001b[39mshapes \u001b[39m\u001b[39m{\u001b[39;00mx\u001b[39m.\u001b[39mshape\u001b[39m}\u001b[39;00m\u001b[39m and \u001b[39m\u001b[39m{\u001b[39;00my\u001b[39m.\u001b[39mshape\u001b[39m}\u001b[39;00m\u001b[39m\"\u001b[39m)\n",
      "\u001b[0;31mValueError\u001b[0m: x and y must have same first dimension, but have shapes (24999,) and (1,)"
     ]
    },
    {
     "data": {
      "image/png": "[encoded data removed]",
      "text/plain": [
       "<Figure size 640x480 with 1 Axes>"
      ]
     },
     "metadata": {},
     "output_type": "display_data"
    }
   ],
   "source": [
    "X = np.linspace(0, Time_1)\n",
    "x2 = np.arange(0, 249999)\n",
    "Y = p1    \n",
    "\n",
    "plt.plot(Time_1, pro_avg, label = 'P1', linestyle='--')\n",
    "#plt.plot(Time_2, pro2, label = 'P2', linestyle='-')\n",
    "\n",
    "plt.show()\n"
   ]
  },
  {
   "cell_type": "code",
   "execution_count": null,
   "metadata": {},
   "outputs": [],
   "source": []
  }
 ],
 "metadata": {
  "kernelspec": {
   "display_name": "Python 3.11.3 ('homebrew')",
   "language": "python",
   "name": "python3"
  },
  "language_info": {
   "codemirror_mode": {
    "name": "ipython",
    "version": 3
   },
   "file_extension": ".py",
   "mimetype": "text/x-python",
   "name": "python",
   "nbconvert_exporter": "python",
   "pygments_lexer": "ipython3",
   "version": "3.11.3"
  },
  "orig_nbformat": 4,
  "vscode": {
   "interpreter": {
    "hash": "b0fa6594d8f4cbf19f97940f81e996739fb7646882a419484c72d19e05852a7e"
   }
  }
 },
 "nbformat": 4,
 "nbformat_minor": 2
}
