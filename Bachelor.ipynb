{
 "cells": [
  {
   "cell_type": "code",
   "execution_count": 1,
   "metadata": {},
   "outputs": [],
   "source": [
    "import random\n",
    "import numpy as np\n",
    "import matplotlib\n",
    "import time\n",
    "from numba import jit\n",
    "import multiprocessing as mp\n",
    "from matplotlib import pyplot as plt"
   ]
  },
  {
   "cell_type": "markdown",
   "metadata": {},
   "source": [
    "# Demand function"
   ]
  },
  {
   "cell_type": "code",
   "execution_count": 2,
   "metadata": {},
   "outputs": [],
   "source": [
    "@jit(nopython=True)\n",
    "def Demand(p1, p2):\n",
    "    if p1 < p2:\n",
    "        return (1 - p1)\n",
    "    elif p1 > p2:\n",
    "        return 0\n",
    "    else:\n",
    "        return (0.5 * (1 - p1))"
   ]
  },
  {
   "cell_type": "markdown",
   "metadata": {},
   "source": [
    "# Profit function"
   ]
  },
  {
   "cell_type": "code",
   "execution_count": 3,
   "metadata": {},
   "outputs": [],
   "source": [
    "@jit(nopython=True)\n",
    "def Profit(p1, p2):\n",
    "    return (p1 * Demand(p1, p2))"
   ]
  },
  {
   "cell_type": "code",
   "execution_count": 4,
   "metadata": {},
   "outputs": [],
   "source": [
    "P = np.array([0, 1/6, 2/6, 3/6, 4/6, 5/6, 1]) # price array"
   ]
  },
  {
   "cell_type": "markdown",
   "metadata": {},
   "source": [
    "# Q-learning and simulation function"
   ]
  },
  {
   "cell_type": "code",
   "execution_count": 5,
   "metadata": {},
   "outputs": [],
   "source": [
    "@jit(nopython=True)\n",
    "def Qfunction(price, period, delta, alpha, theta):\n",
    "    # Initialize prices and Q-tables\n",
    "    price1 = int(np.random.choice(len(price))) # index i matrix kan ikke være en float\n",
    "    price2 = 0\n",
    "\n",
    "    price1_list = []\n",
    "    price2_list = []\n",
    "\n",
    "    price1_list.append(price1)\n",
    "    price1_list.append(price1)\n",
    "    price2_list.append(price2)\n",
    "    price2_list.append(price2)\n",
    "\n",
    "    state = 0\n",
    "\n",
    "    Qtable_1 = np.zeros((len(price), len(price)))\n",
    "    Qtable_2 = np.zeros((len(price), len(price)))\n",
    "\n",
    "    profit_1_list = [] # kan måske slettes senere\n",
    "    profit_2_list = [] # kan måske slettes senere\n",
    "\n",
    "    avg_profit_1 = 0\n",
    "    avg_profit_2 = 0\n",
    "\n",
    "    profit_1_list.append(avg_profit_1)\n",
    "    profit_1_list.append(avg_profit_1)\n",
    "    profit_2_list.append(avg_profit_2)\n",
    "    profit_2_list.append(avg_profit_2)\n",
    "\n",
    "\n",
    "    t = 3\n",
    "    i = 1\n",
    "    j = 2\n",
    "\n",
    "    for t in range(t, period + 1):\n",
    "        epsilon = (1 - theta)**t\n",
    "        #print(\"t = \", t)\n",
    "        if (t % 2) != 0:\n",
    "            #print(\"Firm 1\\n\")\n",
    "\n",
    "            # Previous estimate\n",
    "            prev_estimate = Qtable_1[price1, price2]\n",
    "            #print(\"price1:\\n\", price1)\n",
    "            #print(\"price2:\\n\", price2)\n",
    "            #print(\"prev_estimate:\\n\", prev_estimate)\n",
    "\n",
    "            # New estimate\n",
    "            profit_current_state = Profit(price[price1], price[price2])\n",
    "            #print(\"profit_current_state:\\n\", profit_current_state)\n",
    "\n",
    "            profit_next_state = delta * Profit(price[price1], price[state])\n",
    "            #print(\"state:\\n\", state)\n",
    "            #print(\"profit_next_state:\\n\", profit_next_state)\n",
    "\n",
    "            max_Q = np.argmax(Qtable_1[:, state])\n",
    "            #print(\"Qtable_1:\\n\", Qtable_1[:, state])\n",
    "            #print(\"Max_Q:\\n\", max_Q)\n",
    "\n",
    "            max_Q_next_state = delta**2 * max_Q\n",
    "            #print(\"max_Q_next_state:\\n\", max_Q_next_state)\n",
    "\n",
    "            new_estimate = profit_current_state + profit_next_state + max_Q_next_state\n",
    "            #print(\"new_estimate:\\n\", new_estimate)\n",
    "\n",
    "            # Update\n",
    "            Qtable_1[price1, price2] = (1 - alpha) * prev_estimate + alpha * new_estimate\n",
    "            #print(\"Qtable_1:\\n\", Qtable_1)\n",
    "\n",
    "            # Set p_it\n",
    "            if np.random.uniform(0,1) < epsilon:\n",
    "                price1 = int(np.random.choice(len(price)))\n",
    "                #print(\"Random\\n\")\n",
    "            else:\n",
    "                state = price2\n",
    "                #print(\"state:\", state)\n",
    "                price1 = np.argmax(Qtable_1[:, state])\n",
    "                #print(\"Max\\n\")\n",
    "            \n",
    "            #print(\"pris1:\\n\", price1)\n",
    "\n",
    "            state = price1\n",
    "            #print(\"state:\", state)\n",
    "\n",
    "            price1_list.append(price[price1])\n",
    "            price1_list.append(price[price1])\n",
    "            profit_1_list.append(profit_current_state)\n",
    "            profit_1_list.append(profit_current_state)\n",
    "\n",
    "            if t >= (period + 1) - 1000:\n",
    "                avg_profit_1 +=profit_current_state\n",
    "            #print(\"1\", price1_list)\n",
    "\n",
    "        else:\n",
    "            #print(\"Firm 2\\n\")\n",
    "            # Previous estimate\n",
    "            prev_estimate = Qtable_2[price2, state]\n",
    "            #print(\"price2:\\n\", price2)\n",
    "            #print(\"state:\\n\", state)\n",
    "            #print(\"prev_estimate:\\n\", prev_estimate)\n",
    "\n",
    "            # New estimate\n",
    "            profit_current_state = Profit(price[price2], price[price1])\n",
    "            #print(\"price1:\\n\", price1)\n",
    "            #print(\"profit_current_state:\\n\", profit_current_state)\n",
    "\n",
    "            profit_next_state = delta * Profit(price[price2], price[state])\n",
    "            #print(\"profit_next_state:\\n\", profit_next_state)\n",
    "\n",
    "            max_Q = np.argmax(Qtable_2[:, state])\n",
    "            #print(\"Qtable_2:\\n\", Qtable_2[:, state])\n",
    "            #print(\"Max_Q:\\n\", max_Q)\n",
    "\n",
    "            max_Q_next_state = delta**2 * max_Q\n",
    "            #print(\"max_Q_next_state:\\n\", max_Q_next_state)\n",
    "\n",
    "            new_estimate = profit_current_state + profit_next_state + max_Q_next_state\n",
    "            #print(\"new_estimate:\\n\", new_estimate)\n",
    "\n",
    "            # Update\n",
    "            Qtable_2[price2, state] = (1 - alpha) * prev_estimate + alpha * new_estimate \n",
    "            #print(\"Qtable_2:\\n\", Qtable_2)\n",
    "\n",
    "            # Set p_jt\n",
    "            if np.random.uniform(0,1) < epsilon:\n",
    "                price2 = int(np.random.choice(len(price)))\n",
    "                #print(\"Random:\\n\")\n",
    "            else:\n",
    "                state = price1\n",
    "                #print(\"state:\", state)\n",
    "                price2 = np.argmax(Qtable_2[:, state])\n",
    "                #print(\"Max\\n\")\n",
    "            #print(\"pris2:\\n\", price2)\n",
    "\n",
    "\n",
    "            state = price2\n",
    "            #print(\"state:\", state)\n",
    "\n",
    "            price2_list.append(price[price2])\n",
    "            price2_list.append(price[price2])\n",
    "            profit_2_list.append(profit_current_state)\n",
    "            profit_2_list.append(profit_current_state)\n",
    "\n",
    "            if t >= (period + 1) - 1000:\n",
    "                avg_profit_2 +=profit_current_state\n",
    "            #print(\"2\", price2_list)\n",
    "\n",
    "        # Update t, i and j\n",
    "        t = t + 1\n",
    "        i = j\n",
    "        j = i\n",
    "\n",
    "        Final_profit_1 = avg_profit_1/500 # måske 1000\n",
    "        Final_profit_2 = avg_profit_2/500 # måske 1000\n",
    "   \n",
    "    return Qtable_1, Qtable_2, price1_list, price2_list, profit_1_list, profit_2_list, Final_profit_1, Final_profit_2\n",
    "\n",
    "@jit(nopython=True)\n",
    "def Simulations(sim, price, period, delta, alpha, theta):\n",
    "    # Qtable1_list = []\n",
    "    # Qtable2_list = []\n",
    "    all_price1 = np.zeros((sim, period))\n",
    "    all_price2 = np.zeros((sim, period))\n",
    "    all_profit1 = np.zeros((sim, period))\n",
    "    all_profit2 = np.zeros((sim, period)) \n",
    "    final_profit1_list = []\n",
    "    final_profit2_list = []\n",
    "\n",
    "    for i in range(sim):\n",
    "        _, _, all_price1[i, :], all_price2[i, :], all_profit1[i, :], all_profit2[i, :], final_profit_1, final_profit_2 = Qfunction(price, period, delta, alpha, theta)\n",
    "        # Qtable1_list.append(Qtable1)\n",
    "        # Qtable2_list.append(Qtable2)\n",
    "        final_profit1_list.append(final_profit_1)\n",
    "        final_profit2_list.append(final_profit_2)\n",
    "\n",
    "    return all_price1, all_price2, all_profit1, all_profit2, final_profit1_list, final_profit2_list"
   ]
  },
  {
   "cell_type": "markdown",
   "metadata": {},
   "source": [
    "# Time calculation for 1000 simulations"
   ]
  },
  {
   "cell_type": "code",
   "execution_count": 6,
   "metadata": {},
   "outputs": [
    {
     "name": "stdout",
     "output_type": "stream",
     "text": [
      "Time taken to run 1000 simulations: 34.2498619556427 seconds\n"
     ]
    }
   ],
   "source": [
    "start_time  = time.time()\n",
    "\n",
    "np.random.seed(387)\n",
    "all_p1, all_p2, all_profit1, all_profit2, final_avg_profit1, final_avg_profit2 = Simulations(1000, P, 500000, 0.95, 0.3, 0.0000276306)\n",
    "\n",
    "end_time = time.time()\n",
    "\n",
    "elapsed_time = end_time - start_time\n",
    "\n",
    "print(\"Time taken to run 1000 simulations:\", elapsed_time, \"seconds\")"
   ]
  },
  {
   "cell_type": "code",
   "execution_count": null,
   "metadata": {},
   "outputs": [],
   "source": [
    "all_price1_array = np.array(all_p1)\n",
    "all_price2_array = np.array(all_p2)\n",
    "\n",
    "all_profit1_array = np.array(all_profit1)\n",
    "all_profit2_array = np.array(all_profit2)\n",
    "        \n",
    "# Calculate the average profit and price for each period across all simulations\n",
    "avg_price1 = np.mean(all_price1_array, axis=0)\n",
    "avg_price2 = np.mean(all_price2_array, axis=0)\n",
    "avg_profit1 = np.mean(all_profit1_array, axis=0)\n",
    "avg_profit2 = np.mean(all_profit2_array, axis=0)"
   ]
  },
  {
   "cell_type": "markdown",
   "metadata": {},
   "source": [
    "# Plotting"
   ]
  },
  {
   "cell_type": "code",
   "execution_count": 161,
   "metadata": {},
   "outputs": [
    {
     "name": "stdout",
     "output_type": "stream",
     "text": [
      "1000\n"
     ]
    },
    {
     "data": {
      "image/png": "[encoded data removed]",
      "text/plain": [
       "<Figure size 640x480 with 1 Axes>"
      ]
     },
     "metadata": {},
     "output_type": "display_data"
    }
   ],
   "source": [
    "\n",
    "Time_1 = np.arange(0, 1999, 2)\n",
    "Time_2 = np.arange(1, 2000, 2)\n",
    "Time_T = np.arange(500000)\n",
    "print(len(avg_profit2))\n",
    "\n",
    "\n",
    "X = np.linspace(0, Time_1)\n",
    "x2 = np.arange(0, 249999)\n",
    "Y = p1    \n",
    "\n",
    "\n",
    "plt.plot(Time_1, final_avg_profit1, label = 'P1', linestyle='--')\n",
    "plt.plot(Time_2, final_avg_profit2, label = 'P2', linestyle='-')\n",
    "\n",
    "plt.show()\n"
   ]
  },
  {
   "cell_type": "code",
   "execution_count": null,
   "metadata": {},
   "outputs": [],
   "source": []
  },
  {
   "cell_type": "code",
   "execution_count": null,
   "metadata": {},
   "outputs": [],
   "source": []
  }
 ],
 "metadata": {
  "kernelspec": {
   "display_name": "Python 3.11.3 ('homebrew')",
   "language": "python",
   "name": "python3"
  },
  "language_info": {
   "codemirror_mode": {
    "name": "ipython",
    "version": 3
   },
   "file_extension": ".py",
   "mimetype": "text/x-python",
   "name": "python",
   "nbconvert_exporter": "python",
   "pygments_lexer": "ipython3",
   "version": "3.11.3"
  },
  "orig_nbformat": 4,
  "vscode": {
   "interpreter": {
    "hash": "b0fa6594d8f4cbf19f97940f81e996739fb7646882a419484c72d19e05852a7e"
   }
  }
 },
 "nbformat": 4,
 "nbformat_minor": 2
}
