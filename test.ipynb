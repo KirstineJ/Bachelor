{
 "cells": [
  {
   "cell_type": "code",
   "execution_count": 64,
   "metadata": {},
   "outputs": [],
   "source": [
    "import random\n",
    "import numpy as np\n",
    "import matplotlib\n",
    "import time\n",
    "from numba import jit\n",
    "import multiprocessing as mp\n",
    "from matplotlib import pyplot as plt"
   ]
  },
  {
   "cell_type": "code",
   "execution_count": 65,
   "metadata": {},
   "outputs": [],
   "source": [
    "@jit(nopython=True)\n",
    "def demand(p1, p2):\n",
    "    if p1 < p2:\n",
    "        d = 1 - p1\n",
    "    elif p1 == p2:\n",
    "        d = 0.5 * (1 - p1)\n",
    "    else:\n",
    "        d = 0\n",
    "    return d"
   ]
  },
  {
   "cell_type": "code",
   "execution_count": 66,
   "metadata": {},
   "outputs": [],
   "source": [
    "@jit(nopython=True)\n",
    "def profit(p1, p2):\n",
    "    return (p1 * demand(p1, p2))"
   ]
  },
  {
   "cell_type": "code",
   "execution_count": 67,
   "metadata": {},
   "outputs": [],
   "source": [
    "P = np.array([0, 1/6, 2/6, 3/6, 4/6, 5/6, 1]) # price array"
   ]
  },
  {
   "cell_type": "code",
   "execution_count": 68,
   "metadata": {},
   "outputs": [],
   "source": [
    "@jit(nopython=True)\n",
    "def epsilon_greedy(Qtable, epsilon, uniform, state: int, price_grid: np.ndarray) -> int: \n",
    "    N = len(price_grid)\n",
    "    assert Qtable.shape[0] == N, \"Qtable must have the same number of rows as there are prices in the grid\"\n",
    "    assert Qtable.shape[1] == N, \"Qtable must have the same number of columns as there are prices in the grid\"\n",
    "    assert state < N, \"state must be a valid index in the price grid\"\n",
    "    assert state >= 0, \"state must be a valid index in the price grid\"\n",
    "\n",
    "    # Draw action \n",
    "    if uniform < epsilon:\n",
    "        price_index = np.random.choice(N)\n",
    "    else:\n",
    "        price_index = np.argmax(Qtable[:, state])\n",
    "    return price_index"
   ]
  },
  {
   "cell_type": "code",
   "execution_count": 92,
   "metadata": {},
   "outputs": [],
   "source": [
    "@jit(nopython=True)\n",
    "def epsilon_greedy1(expected_profit, epsilon, uniform, price_grid: np.ndarray) -> int: \n",
    "    N = len(price_grid)\n",
    "\n",
    "    # Draw action \n",
    "    if uniform < epsilon:\n",
    "        price_index = np.random.choice(N)\n",
    "    else:\n",
    "        price_index = np.argmax(expected_profit)\n",
    "    return price_index"
   ]
  },
  {
   "cell_type": "code",
   "execution_count": 93,
   "metadata": {},
   "outputs": [],
   "source": [
    "# Probability array for opponents choice\n",
    "@jit(nopython=True)\n",
    "def prob_array(Qtable, price_grid, price_index_i):\n",
    "    K = len(price_grid)\n",
    "    prob_matrix = np.zeros((K, K))\n",
    "\n",
    "    # [Anders] a faster way of doing the below is \n",
    "    # prob_matrix = Qtable / np.sum(Qtable, axis=1)[:, None]\n",
    "\n",
    "    prob_matrix[price_index_i] = Qtable[price_index_i, :] / np.sum(Qtable[price_index_i, :])\n",
    "\n",
    "    return prob_matrix"
   ]
  },
  {
   "cell_type": "code",
   "execution_count": 82,
   "metadata": {},
   "outputs": [],
   "source": [
    "@jit(nopython=True)\n",
    "def update_Qtable(Qtable, price_index_i, state, price_index_j_next_period, profit_i_current_period, profit_i_next_period, delta, alpha):\n",
    "    max_Q = np.max(Qtable[:, price_index_j_next_period])\n",
    "    continuation_value = max_Q \n",
    "\n",
    "    new_estimate = profit_i_current_period + delta * profit_i_next_period + delta**2 * continuation_value\n",
    "\n",
    "    # Update\n",
    "    prev_estimate = Qtable[price_index_i, state]\n",
    "\n",
    "    # Update Q-table for player i\n",
    "    Qtable[price_index_i, state] = (1 - alpha) * prev_estimate + alpha * new_estimate\n",
    "      "
   ]
  },
  {
   "cell_type": "code",
   "execution_count": 94,
   "metadata": {},
   "outputs": [],
   "source": [
    "@jit(nopython=True)\n",
    "def expected_profit_sequential(idx_state:int, price_grid, prob_opponent, discount_factor: float): \n",
    "    K = len(price_grid)\n",
    "    expected_profit = np.zeros(K)\n",
    "\n",
    "    # verify that the prob_opponent makes sense \n",
    "    assert prob_opponent.shape == (K,K)\n",
    "    #assert np.isclose(prob_opponent.sum(axis=1) , 1.0).all()\n",
    "\n",
    "    for i in range(K): # my price \n",
    "        profit_now = profit(price_grid[i], price_grid[idx_state]) # opponent cannot update price yet \n",
    "        profit_next = np.zeros(K)\n",
    "        for j in range(K): \n",
    "            profit_next[j] = profit(price_grid[i], price_grid[j]) # I cannot update next period \n",
    "\n",
    "        this_prob_opponent = prob_opponent[i,:] # my opponent will respond to my price with this probability vector \n",
    "        expected_profit[i] = profit_now + discount_factor * np.sum(profit_next * this_prob_opponent)\n",
    "    \n",
    "    return expected_profit "
   ]
  },
  {
   "cell_type": "code",
   "execution_count": 96,
   "metadata": {},
   "outputs": [],
   "source": [
    "@jit(nopython=True)\n",
    "def game_Qlearner(price_grid, periods, delta, alpha, theta):\n",
    "     # Initialize prices and Q-tables\n",
    "    price_index_1 = np.random.choice(len(price_grid)) \n",
    "    price_index_2 = np.random.choice(len(price_grid)) \n",
    " \n",
    "    Qtable_1 = np.zeros((len(price_grid), len(price_grid)))\n",
    "    Qtable_2 = np.zeros((len(price_grid), len(price_grid)))\n",
    "\n",
    "    profit_1 = np.zeros(int(periods))\n",
    "    profit_2 = np.zeros(int(periods))\n",
    "\n",
    "    avg_profit = np.zeros(periods)\n",
    "\n",
    "    epsilons = (1 - theta)**np.arange(periods + 1)\n",
    "    uniforms = np.random.uniform(0, 1, (periods + 1, 2))\n",
    "\n",
    "    for t in range(1, periods + 1):\n",
    "        #print(\"T = \", t)\n",
    "        if t % 2 != 0:\n",
    "            state = price_index_2\n",
    "            # current period \n",
    "            decision = price_grid[price_index_1]\n",
    "            state_1_responds_to = price_grid[state]\n",
    "            profit_1_current_period = profit(decision, state_1_responds_to)\n",
    "\n",
    "            # next period \n",
    "            state_next_period = price_index_1 # next_period's state is today's price\n",
    "            price_index_2_next_period = epsilon_greedy(Qtable_2, epsilons[t], uniforms[t,0], state=state_next_period, price_grid=price_grid)\n",
    "\n",
    "            price_2_next_period = price_grid[price_index_2_next_period]\n",
    "            price_1_next_period = price_grid[price_index_1] # unchanged price, it's not i's turn \n",
    "            profit_1_next_period = profit(price_1_next_period, price_2_next_period)\n",
    "\n",
    "            update_Qtable(Qtable_1, price_index_1, state, price_index_2_next_period, profit_1_current_period, profit_1_next_period, delta, alpha)\n",
    "\n",
    "            # Profit opponent \n",
    "            profit_opponent = profit(state_1_responds_to, decision)\n",
    "        \n",
    "            # Profit\n",
    "            avg_profit[t-1] = (profit_1_current_period + profit_opponent) / 2\n",
    "\n",
    "            profit_1[t-1] = profit_1_current_period\n",
    "            profit_2[t-1] = profit_opponent\n",
    "\n",
    "            price_index_2 = price_index_2_next_period\n",
    "        \n",
    "        else:\n",
    "            state = price_index_1\n",
    "            # current period \n",
    "            decision = price_grid[price_index_2]\n",
    "            state_2_responds_to = price_grid[state]\n",
    "            profit_2_current_period = profit(decision, state_2_responds_to)\n",
    "\n",
    "            # next period \n",
    "            state_next_period = price_index_2 # next_period's state is today's price\n",
    "            price_index_1_next_period = epsilon_greedy(Qtable_1, epsilons[t], uniforms[t,1], state=state_next_period, price_grid=price_grid)\n",
    "\n",
    "            price_1_next_period = price_grid[price_index_1_next_period]\n",
    "            price_2_next_period = price_grid[price_index_2] # unchanged price, it's not i's turn \n",
    "            profit_2_next_period = profit(price_2_next_period, price_1_next_period)\n",
    "\n",
    "            update_Qtable(Qtable_2, price_index_2, state, price_index_1_next_period, profit_2_current_period, profit_2_next_period, delta, alpha)\n",
    "\n",
    "            # Profit opponent \n",
    "            profit_opponent = profit(state_2_responds_to, decision)\n",
    "        \n",
    "            # Profit\n",
    "            avg_profit[t-1] = (profit_2_current_period + profit_opponent) / 2\n",
    "\n",
    "            profit_1[t-1] = profit_opponent\n",
    "            profit_2[t-1] = profit_2_current_period\n",
    "\n",
    "            price_index_1 = price_index_1_next_period\n",
    "           \n",
    "        \n",
    "    return avg_profit, profit_1, profit_2"
   ]
  },
  {
   "cell_type": "code",
   "execution_count": 103,
   "metadata": {},
   "outputs": [],
   "source": [
    "@jit(nopython=True)\n",
    "def FictitiousPlay(price_grid, delta, t, epsilons, uniforms, count, price_index_opponent, price_index_i):\n",
    "    # Update the action count for the chosen price\n",
    "    count[price_index_i, price_index_opponent] += 1\n",
    "    \n",
    "    # Calculate the probability for the player's actions\n",
    "    prob_opponent = prob_array(count, price_grid, price_index_i)\n",
    "\n",
    "    # Calculate the expected profit for the player for each possible price\n",
    "    expected_profit = expected_profit_sequential(price_index_opponent, price_grid, prob_opponent, delta)\n",
    "\n",
    "    # Choose a new price based on the expected profit\n",
    "    price_index_i = epsilon_greedy1(expected_profit, epsilons[t], uniforms[t, 1], price_grid)\n",
    "\n",
    "    return price_index_i"
   ]
  },
  {
   "cell_type": "code",
   "execution_count": 104,
   "metadata": {},
   "outputs": [],
   "source": [
    "@jit(nopython=True)\n",
    "def game_FictitiousPlay(price_grid, periods, delta, alpha, theta):\n",
    "    K = len(price_grid)\n",
    "\n",
    "     # Initialize prices and Q-tables\n",
    "    price_index_1 = np.random.choice(K) \n",
    "    price_index_2 = np.random.choice(K) \n",
    "    price_old_1 = np.random.choice(K) \n",
    "    price_old_2 = np.random.choice(K) \n",
    " \n",
    "    Qtable_1 = np.zeros((K, K))\n",
    "    Qtable_2 = np.zeros((K, K))\n",
    "\n",
    "    profit_1 = np.zeros(int(periods))\n",
    "    profit_2 = np.zeros(int(periods))\n",
    "\n",
    "    avg_profit = np.zeros(periods)\n",
    "\n",
    "    epsilons = (1 - theta)**np.arange(periods + 1)\n",
    "    uniforms = np.random.uniform(0, 1, (periods + 1, 2))\n",
    "\n",
    "    count = np.zeros((K, K))\n",
    "\n",
    "    for t in range(1, periods + 1):\n",
    "        #print(\"T = \", t)\n",
    "        if t % 2 != 0:\n",
    "            state = price_index_2\n",
    "            # current period \n",
    "            decision = price_grid[price_index_1]\n",
    "            state_1_responds_to = price_grid[state]\n",
    "            profit_1_current_period = profit(decision, state_1_responds_to)\n",
    "\n",
    "            # next period \n",
    "            state_next_period = price_index_1 # next_period's state is today's price\n",
    "            price_index_2_next_period = FictitiousPlay(price_grid, delta, t, epsilons, uniforms, count, price_index_2, price_old_1)\n",
    "\n",
    "            price_old_1 = price_index_2_next_period \n",
    "\n",
    "            price_2_next_period = price_grid[price_index_2_next_period]\n",
    "            price_1_next_period = price_grid[price_index_1] # unchanged price, it's not i's turn \n",
    "            profit_1_next_period = profit(price_1_next_period, price_2_next_period)\n",
    "\n",
    "            update_Qtable(Qtable_1, price_index_1, state, price_index_2_next_period, profit_1_current_period, profit_1_next_period, delta, alpha)\n",
    "\n",
    "            # Profit opponent \n",
    "            profit_opponent = profit(state_1_responds_to, decision)\n",
    "        \n",
    "            # Profit\n",
    "            avg_profit[t-1] = (profit_1_current_period + profit_opponent) / 2\n",
    "\n",
    "            profit_1[t-1] = profit_1_current_period\n",
    "            profit_2[t-1] = profit_opponent\n",
    "\n",
    "            price_index_2 = price_index_2_next_period\n",
    "        \n",
    "        else:\n",
    "            state = price_index_1\n",
    "            # current period \n",
    "            decision = price_grid[price_index_2]\n",
    "            state_2_responds_to = price_grid[state]\n",
    "            profit_2_current_period = profit(decision, state_2_responds_to)\n",
    "\n",
    "            # next period \n",
    "            state_next_period = price_index_2 # next_period's state is today's price\n",
    "            price_index_1_next_period = FictitiousPlay(price_grid, delta, t, epsilons, uniforms, count, price_index_1, price_old_2)\n",
    "\n",
    "            price_old_2 = price_index_1_next_period \n",
    "\n",
    "            price_1_next_period = price_grid[price_index_1_next_period]\n",
    "            price_2_next_period = price_grid[price_index_2] # unchanged price, it's not i's turn \n",
    "            profit_2_next_period = profit(price_2_next_period, price_1_next_period)\n",
    "\n",
    "            update_Qtable(Qtable_2, price_index_2, state, price_index_1_next_period, profit_2_current_period, profit_2_next_period, delta, alpha)\n",
    "\n",
    "            # Profit opponent \n",
    "            profit_opponent = profit(state_2_responds_to, decision)\n",
    "        \n",
    "            # Profit\n",
    "            avg_profit[t-1] = (profit_2_current_period + profit_opponent) / 2\n",
    "\n",
    "            profit_1[t-1] = profit_opponent\n",
    "            profit_2[t-1] = profit_2_current_period\n",
    "\n",
    "            price_index_1 = price_index_1_next_period\n",
    "           \n",
    "        \n",
    "    return avg_profit, profit_1, profit_2"
   ]
  },
  {
   "cell_type": "code",
   "execution_count": 105,
   "metadata": {},
   "outputs": [
    {
     "data": {
      "text/plain": [
       "(array([0.06944444, 0.06944444, 0.06944444, 0.06944444, 0.06944444,\n",
       "        0.125     , 0.125     , 0.125     , 0.06944444, 0.06944444,\n",
       "        0.06944444, 0.        , 0.        , 0.06944444, 0.06944444,\n",
       "        0.        , 0.        , 0.06944444, 0.06944444, 0.06944444]),\n",
       " array([0.        , 0.        , 0.        , 0.        , 0.        ,\n",
       "        0.        , 0.125     , 0.25      , 0.13888889, 0.06944444,\n",
       "        0.        , 0.        , 0.        , 0.        , 0.        ,\n",
       "        0.        , 0.        , 0.        , 0.06944444, 0.13888889]),\n",
       " array([0.13888889, 0.13888889, 0.13888889, 0.13888889, 0.13888889,\n",
       "        0.25      , 0.125     , 0.        , 0.        , 0.06944444,\n",
       "        0.13888889, 0.        , 0.        , 0.13888889, 0.13888889,\n",
       "        0.        , 0.        , 0.13888889, 0.06944444, 0.        ]))"
      ]
     },
     "execution_count": 105,
     "metadata": {},
     "output_type": "execute_result"
    }
   ],
   "source": [
    "game_FictitiousPlay(P, 20, 0.95, 0.3, 0.0000276306)"
   ]
  },
  {
   "cell_type": "code",
   "execution_count": 106,
   "metadata": {},
   "outputs": [],
   "source": [
    "@jit(nopython=True)\n",
    "def Simulations(sim, price, period, delta, alpha, theta):\n",
    "    total_profit_sim = np.zeros((sim, period))\n",
    "    profit_1_sim = np.zeros((sim, period))\n",
    "    profit_2_sim = np.zeros((sim, period))\n",
    "    avg_profit = np.zeros(sim)\n",
    "    avg_profit_1 = np.zeros(sim)\n",
    "    avg_profit_2 = np.zeros(sim)\n",
    "\n",
    "    for i in range(sim):\n",
    "        total_profit_array, profit_1_array, profit_2_array = game_FictitiousPlay(price, period, delta, alpha, theta)\n",
    "        total_profit_sim[i] = total_profit_array\n",
    "        profit_1_sim[i] = profit_1_array\n",
    "        profit_2_sim[i] = profit_2_array\n",
    "        avg_profit_1[i] = np.mean(profit_1_array[-1000:])\n",
    "        avg_profit_2[i] = np.mean(profit_2_array[-1000:])\n",
    "        avg_profit[i] = np.mean(total_profit_array[-1000:])\n",
    "\n",
    "    return total_profit_sim, avg_profit_1, avg_profit_2, profit_1_sim, profit_2_sim"
   ]
  },
  {
   "cell_type": "code",
   "execution_count": 107,
   "metadata": {},
   "outputs": [
    {
     "name": "stdout",
     "output_type": "stream",
     "text": [
      "Time taken to run 1000 simulations: 887.1312336921692 seconds\n"
     ]
    }
   ],
   "source": [
    "start_time  = time.time()\n",
    "\n",
    "total_profit_plot, avg_profit_1_plot, avg_profit_2_plot, profit_total_1, profit_total_2 = Simulations(1000, P, 500000, 0.95, 0.3, 0.0000276306)\n",
    "\n",
    "end_time = time.time()\n",
    "\n",
    "elapsed_time = end_time - start_time\n",
    "\n",
    "print(\"Time taken to run 1000 simulations:\", elapsed_time, \"seconds\")"
   ]
  },
  {
   "cell_type": "code",
   "execution_count": 108,
   "metadata": {},
   "outputs": [],
   "source": [
    "def delta_prof(avg_array_1, avg_array_2, sim):\n",
    "    together_array = np.vstack((avg_array_1, avg_array_2))\n",
    "    together_array_mean = np.mean(together_array, axis=0)\n",
    "    delta_1 = np.zeros(len(together_array_mean))\n",
    "    for i in range(sim):\n",
    "        delta_1[i] = ((together_array_mean[i]) / (0.125))\n",
    "    return delta_1"
   ]
  },
  {
   "cell_type": "code",
   "execution_count": 109,
   "metadata": {},
   "outputs": [],
   "source": [
    "#dividing delta into intervals\n",
    "def delta_div(delta_arr):\n",
    "    new_delt = np.zeros(5)\n",
    "    for i in range(len(delta_arr)):\n",
    "        if delta_arr[i] <=1 and delta_arr[i] > 0.9: \n",
    "        #if delta_arr[i] == 1 :\n",
    "            new_delt[4]+=1\n",
    "        elif delta_arr[i] <=0.9 and delta_arr[i] > 0.8:\n",
    "            new_delt[3]+=1\n",
    "        elif delta_arr[i] <=0.8 and delta_arr[i] > 0.7:\n",
    "            new_delt[2]+=1\n",
    "        elif delta_arr[i] <= 0.7 and delta_arr[i] > 0.6:\n",
    "            new_delt[1]+=1\n",
    "        else:\n",
    "            new_delt[0] +=1\n",
    "    return new_delt"
   ]
  },
  {
   "cell_type": "code",
   "execution_count": 110,
   "metadata": {},
   "outputs": [],
   "source": [
    "delta_1 = delta_prof(avg_profit_1_plot, avg_profit_2_plot, 1000)\n",
    "\n",
    "delta_2 = delta_div(delta_1)"
   ]
  },
  {
   "cell_type": "code",
   "execution_count": 111,
   "metadata": {},
   "outputs": [
    {
     "data": {
      "image/png": "[encoded data removed]",
      "text/plain": [
       "<Figure size 432x288 with 1 Axes>"
      ]
     },
     "metadata": {
      "needs_background": "light"
     },
     "output_type": "display_data"
    }
   ],
   "source": [
    "def addlabels(x,y):\n",
    "    for i in range(len(x)):\n",
    "        plt.text(i,y[i],y[i])\n",
    "\n",
    "langs = ['[0.5 : 0.6]', ']0.6 : 0.7]', ']0.7 : 0.8]', ']0.8 : 0.9]', ']0.9 : 1]']\n",
    "\n",
    "y_pos = np.arange(len(langs))\n",
    "\n",
    "plt.title(\"Distribution of $\\Delta$\")\n",
    "# Create bars\n",
    "plt.bar(y_pos, delta_2)\n",
    "\n",
    "addlabels(langs, delta_2 )\n",
    "# Create names on the x-axis\n",
    "plt.xticks(y_pos, langs)\n",
    "plt.xlabel(\"$\\Delta$\")\n",
    "plt.ylabel(\"Frequency\")\n",
    "#make label\n",
    "label = [delta_2]\n",
    "# Show graphic\n",
    "plt.show()"
   ]
  },
  {
   "cell_type": "code",
   "execution_count": 112,
   "metadata": {},
   "outputs": [],
   "source": [
    "samlet_prof = total_profit_plot.mean(0)\n",
    "window_size = 1000\n",
    "  \n",
    "i = 0\n",
    "# Initialize an empty list to store moving averages\n",
    "moving_averages = []\n",
    "# Loop through the array t o\n",
    "#consider every window of size 1000\n",
    "while i < len(samlet_prof) - window_size + 1:\n",
    "  \n",
    "    # Calculate the average of current window\n",
    "    window_average = np.sum(samlet_prof[i:i+window_size]) / window_size\n",
    "      \n",
    "    # Store the average of current\n",
    "    # window in moving average list\n",
    "    moving_averages.append(window_average)\n",
    "      \n",
    "    # Shift window to right by one position\n",
    "    i += 1"
   ]
  },
  {
   "cell_type": "code",
   "execution_count": 113,
   "metadata": {},
   "outputs": [
    {
     "data": {
      "image/png": "[encoded data removed]",
      "text/plain": [
       "<Figure size 432x288 with 1 Axes>"
      ]
     },
     "metadata": {
      "needs_background": "light"
     },
     "output_type": "display_data"
    }
   ],
   "source": [
    "plt.plot(moving_averages, color='#a62626', label=\"Average profitability\")\n",
    "plt.xlabel('t')\n",
    "plt.ylabel('Avg. profitability')\n",
    "plt.ylim(0.00, 0.15)\n",
    "plt.hlines(y=0.0611, xmin=0, xmax=500000, colors='red', linestyles='--')\n",
    "plt.hlines(y=0.125, xmin=0, xmax=500000, colors='red', linestyles='--')\n",
    "plt.show()"
   ]
  },
  {
   "cell_type": "code",
   "execution_count": null,
   "metadata": {},
   "outputs": [],
   "source": []
  }
 ],
 "metadata": {
  "interpreter": {
   "hash": "cd78fef2128015050713e82ca51c6520b11aee7c9ee8df750520bbbc7384cbaa"
  },
  "kernelspec": {
   "display_name": "Python 3.9.18 ('base')",
   "language": "python",
   "name": "python3"
  },
  "language_info": {
   "codemirror_mode": {
    "name": "ipython",
    "version": 3
   },
   "file_extension": ".py",
   "mimetype": "text/x-python",
   "name": "python",
   "nbconvert_exporter": "python",
   "pygments_lexer": "ipython3",
   "version": "3.9.18"
  },
  "orig_nbformat": 4
 },
 "nbformat": 4,
 "nbformat_minor": 2
}
