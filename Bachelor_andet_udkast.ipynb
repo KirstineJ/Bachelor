{
 "cells": [
  {
   "cell_type": "code",
   "execution_count": 1,
   "metadata": {},
   "outputs": [],
   "source": [
    "import random\n",
    "import numpy as np\n",
    "import matplotlib\n",
    "import time\n",
    "from numba import jit\n",
    "import multiprocessing as mp\n",
    "from matplotlib import pyplot as plt"
   ]
  },
  {
   "cell_type": "markdown",
   "metadata": {},
   "source": [
    "# Demand function"
   ]
  },
  {
   "cell_type": "code",
   "execution_count": 3,
   "metadata": {},
   "outputs": [],
   "source": [
    "@jit(nopython=True)\n",
    "def demand(p1, p2):\n",
    "    if p1 < p2:\n",
    "        return (1 - p1)\n",
    "    elif p1 > p2:\n",
    "        return 0\n",
    "    else:\n",
    "        return (0.5 * (1 - p1))"
   ]
  },
  {
   "cell_type": "markdown",
   "metadata": {},
   "source": [
    "# Profit function"
   ]
  },
  {
   "cell_type": "code",
   "execution_count": 4,
   "metadata": {},
   "outputs": [],
   "source": [
    "@jit(nopython=True)\n",
    "def profit(p1, p2):\n",
    "    return (p1 * demand(p1, p2))"
   ]
  },
  {
   "cell_type": "code",
   "execution_count": 5,
   "metadata": {},
   "outputs": [],
   "source": [
    "P = np.array([0, 1/6, 2/6, 3/6, 4/6, 5/6, 1]) # price array"
   ]
  },
  {
   "cell_type": "markdown",
   "metadata": {},
   "source": [
    "# Hjælpefunktion.."
   ]
  },
  {
   "cell_type": "code",
   "execution_count": null,
   "metadata": {},
   "outputs": [],
   "source": [
    "def epsilon_greedy(Qtable, epsilon, uniform, state: int, price_grid: np.ndarray) -> int: \n",
    "    N = len(price_grid)\n",
    "    assert Qtable.shape[0] == N, \"Qtable must have the same number of rows as there are prices in the grid\"\n",
    "    assert Qtable.shape[1] == N, \"Qtable must have the same number of columns as there are prices in the grid\"\n",
    "    assert state < N, \"state must be a valid index in the price grid\"\n",
    "    assert state >= 0, \"state must be a valid index in the price grid\"\n",
    "\n",
    "    # Draw action \n",
    "    if uniform < epsilon:\n",
    "        price_index = np.random.choice(N)\n",
    "    else:\n",
    "        price_index = np.argmax(Qtable[:, state])\n",
    "    return price_index"
   ]
  },
  {
   "cell_type": "markdown",
   "metadata": {},
   "source": [
    "# Q-learning and simulation function"
   ]
  },
  {
   "cell_type": "code",
   "execution_count": null,
   "metadata": {},
   "outputs": [],
   "source": [
    "@jit(nopython=True)\n",
    "def Qfunction(price_grid, period, delta, alpha, theta):\n",
    "    # Initialize prices and Q-tables\n",
    "    price_index_1 = np.random.choice(len(price_grid)) \n",
    "    price_index_2 = np.random.choice(len(price_grid)) \n",
    "\n",
    "    state = np.random.choice(len(price_grid))\n",
    "\n",
    "    Qtable_1 = np.zeros((len(price_grid), len(price_grid)))\n",
    "    Qtable_2 = np.zeros((len(price_grid), len(price_grid)))\n",
    "\n",
    "    epsilons = (1 - theta)**np.arange(period + 1)\n",
    "    uniforms = np.random.uniform(0, 1, (period + 1, 2))\n",
    "\n",
    "    for t in range(t, period + 1):\n",
    "        epsilon = (1 - theta)**t\n",
    "\n",
    "        # figure out who's turn it is\n",
    "        if t % 2 == 0:\n",
    "            # player 2 is the responder\n",
    "            # set up pointers to the state and the Q table \n",
    "            state = price_index_1 # the most recent draw of player 1's price\n",
    "            Qtable_i = Qtable_2 \n",
    "            Qtable_j = Qtable_1\n",
    "        else:\n",
    "            # player 1 is the responder\n",
    "            state = price_index_2\n",
    "            Qtable_i = Qtable_1\n",
    "            Qtable_j = Qtable_2\n",
    "\n",
    "        # draw 1's action \n",
    "        # (actually, player i's action is already simulated by player j in the previous period)\n",
    "        price_index_i = epsilon_greedy(Qtable_i, epsilon, uniforms[t, 0], state=state, price_grid=price_grid)\n",
    "\n",
    "        # current period \n",
    "        decision = price_grid[price_index_i]\n",
    "        state_i_responds_to = price_grid[state]\n",
    "        profit_i_current_period = profit(decision, state_i_responds_to)\n",
    "\n",
    "        # next period \n",
    "        state_next_period = price_index_i # next_period's state is today's price\n",
    "        price_index_j = epsilon_greedy(Qtable_j, epsilon, uniforms[t, 1], state=state_next_period, price_grid=price_grid)\n",
    "\n",
    "        price_j_next_period = price_grid[price_index_j]\n",
    "        price_i_next_period = price_grid[price_index_i] # unchanged price, it's not i's turn \n",
    "        profit_i_next_period = profit(price_i_next_period, price_j_next_period)\n",
    "\n",
    "        max_Q = np.max(Qtable_i[:, price_index_j])\n",
    "        continuation_value = max_Q \n",
    "\n",
    "        new_Q = profit_i_current_period + delta * profit_i_next_period + delta**2 * continuation_value\n",
    "\n",
    "        # Update\n",
    "        prev_estimate = Qtable_i[price_index_i, price_index_j]\n",
    "        Qtable_i[price_index_i, price_index_j] = (1 - alpha) * prev_estimate + alpha * new_Q\n",
    "\n",
    "        # gemme priserne\n",
    "        # udregne noget profit\n",
    "        # finde ud af hvad der skal returneres\n",
    "\n",
    "@jit(nopython=True)\n",
    "def Simulations(sim, price, period, delta, alpha, theta):\n",
    "    # Qtable1_list = []\n",
    "    # Qtable2_list = []\n",
    "    all_price1 = np.zeros((sim, period))\n",
    "    all_price2 = np.zeros((sim, period))\n",
    "    all_profit1 = np.zeros((sim, period))\n",
    "    all_profit2 = np.zeros((sim, period)) \n",
    "    final_profit1_list = []\n",
    "    final_profit2_list = []\n",
    "\n",
    "    for i in range(sim):\n",
    "        _, _, all_price1[i, :], all_price2[i, :], all_profit1[i, :], all_profit2[i, :], final_profit_1, final_profit_2 = Qfunction(price, period, delta, alpha, theta)\n",
    "        # Qtable1_list.append(Qtable1)\n",
    "        # Qtable2_list.append(Qtable2)\n",
    "        final_profit1_list.append(final_profit_1)\n",
    "        final_profit2_list.append(final_profit_2)\n",
    "\n",
    "    return all_price1, all_price2, all_profit1, all_profit2, final_profit1_list, final_profit2_list"
   ]
  },
  {
   "cell_type": "markdown",
   "metadata": {},
   "source": [
    "# Time calculation for 1000 simulations"
   ]
  },
  {
   "cell_type": "markdown",
   "metadata": {},
   "source": [
    "start_time  = time.time()\n",
    "\n",
    "np.random.seed(387)\n",
    "all_p1, all_p2, all_profit1, all_profit2, final_avg_profit1, final_avg_profit2 = Simulations(1000, P, 500000, 0.95, 0.3, 0.0000276306)\n",
    "\n",
    "end_time = time.time()\n",
    "\n",
    "elapsed_time = end_time - start_time\n",
    "\n",
    "print(\"Time taken to run 1000 simulations:\", elapsed_time, \"seconds\")"
   ]
  }
 ],
 "metadata": {
  "kernelspec": {
   "display_name": "Python 3.11.3 ('homebrew')",
   "language": "python",
   "name": "python3"
  },
  "language_info": {
   "codemirror_mode": {
    "name": "ipython",
    "version": 3
   },
   "file_extension": ".py",
   "mimetype": "text/x-python",
   "name": "python",
   "nbconvert_exporter": "python",
   "pygments_lexer": "ipython3",
   "version": "3.11.3"
  },
  "orig_nbformat": 4,
  "vscode": {
   "interpreter": {
    "hash": "b0fa6594d8f4cbf19f97940f81e996739fb7646882a419484c72d19e05852a7e"
   }
  }
 },
 "nbformat": 4,
 "nbformat_minor": 2
}
