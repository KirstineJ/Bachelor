{
 "cells": [
  {
   "cell_type": "code",
   "execution_count": 1,
   "metadata": {},
   "outputs": [
    {
     "name": "stderr",
     "output_type": "stream",
     "text": [
      "/Applications/anaconda3/lib/python3.9/site-packages/scipy/__init__.py:146: UserWarning: A NumPy version >=1.16.5 and <1.23.0 is required for this version of SciPy (detected version 1.23.5\n",
      "  warnings.warn(f\"A NumPy version >={np_minversion} and <{np_maxversion}\"\n"
     ]
    }
   ],
   "source": [
    "import random\n",
    "import numpy as np\n",
    "import matplotlib\n",
    "import time\n",
    "from numba import jit\n",
    "import multiprocessing as mp\n",
    "from matplotlib import pyplot as plt"
   ]
  },
  {
   "cell_type": "code",
   "execution_count": 2,
   "metadata": {},
   "outputs": [],
   "source": [
    "@jit(nopython=True)\n",
    "def demand(p1, p2):\n",
    "    if p1 < p2:\n",
    "        d = 1 - p1\n",
    "    elif p1 == p2:\n",
    "        d = 0.5 * (1 - p1)\n",
    "    else:\n",
    "        d = 0\n",
    "    return d"
   ]
  },
  {
   "cell_type": "markdown",
   "metadata": {},
   "source": [
    "# Profit function"
   ]
  },
  {
   "cell_type": "code",
   "execution_count": 3,
   "metadata": {},
   "outputs": [],
   "source": [
    "@jit(nopython=True)\n",
    "def profit(p1, p2):\n",
    "    return (p1 * demand(p1, p2))"
   ]
  },
  {
   "cell_type": "code",
   "execution_count": 4,
   "metadata": {},
   "outputs": [],
   "source": [
    "P = np.array([0, 1/6, 2/6, 3/6, 4/6, 5/6, 1]) # price array"
   ]
  },
  {
   "cell_type": "markdown",
   "metadata": {},
   "source": [
    "# Epsilon greedy hjælpefunktion"
   ]
  },
  {
   "cell_type": "code",
   "execution_count": 5,
   "metadata": {},
   "outputs": [],
   "source": [
    "@jit(nopython=True)\n",
    "def epsilon_greedy(Qtable, epsilon, uniform, state: int, price_grid: np.ndarray) -> int: \n",
    "    N = len(price_grid)\n",
    "    assert Qtable.shape[0] == N, \"Qtable must have the same number of rows as there are prices in the grid\"\n",
    "    assert Qtable.shape[1] == N, \"Qtable must have the same number of columns as there are prices in the grid\"\n",
    "    assert state < N, \"state must be a valid index in the price grid\"\n",
    "    assert state >= 0, \"state must be a valid index in the price grid\"\n",
    "\n",
    "    # Draw action \n",
    "    if uniform < epsilon:\n",
    "        price_index = np.random.choice(N)\n",
    "    else:\n",
    "        price_index = np.argmax(Qtable[:, state])\n",
    "    return price_index"
   ]
  },
  {
   "cell_type": "markdown",
   "metadata": {},
   "source": [
    "# Q-learning and simulation function"
   ]
  },
  {
   "cell_type": "code",
   "execution_count": 6,
   "metadata": {},
   "outputs": [],
   "source": [
    "@jit(nopython=True)\n",
    "def Qfunction(price_grid, period, delta, alpha, theta):\n",
    "    # Initialize prices and Q-tables\n",
    "    price_index_i = np.random.choice(len(price_grid)) \n",
    "    price_index_j = np.random.choice(len(price_grid)) \n",
    "\n",
    "    Qtable_i = np.zeros((len(price_grid), len(price_grid)))\n",
    "    Qtable_j = np.zeros((len(price_grid), len(price_grid)))\n",
    "    Qtable_temp = np.zeros((len(price_grid), len(price_grid)))\n",
    "\n",
    "    price_list = np.zeros(int(period))\n",
    "\n",
    "    profit_1 = np.zeros(int(period))\n",
    "    profit_2 = np.zeros(int(period))\n",
    "\n",
    "    avg_profit_per_period = np.zeros(period)\n",
    "\n",
    "    epsilons = (1 - theta)**np.arange(period + 1)\n",
    "    uniforms = np.random.uniform(0, 1, (period + 1, 2))\n",
    "\n",
    "    for t in range(1, period + 1):\n",
    "        state = price_index_j # the most recent draw of player i's price\n",
    "        \n",
    "        # figure out who's turn it is\n",
    "        if t % 2 == 0:\n",
    "            # player 2 is the responder\n",
    "            player_index = 1\n",
    "            opponent_index = 0\n",
    "        else:\n",
    "            # player 1 is the responder\n",
    "            player_index = 0\n",
    "            opponent_index = 1\n",
    "\n",
    "        # current period \n",
    "        decision = price_grid[price_index_i]\n",
    "        state_i_responds_to = price_grid[state]\n",
    "        profit_i_current_period = profit(decision, state_i_responds_to)\n",
    "\n",
    "        # next period \n",
    "        state_next_period = price_index_i # next_period's state is today's price\n",
    "        price_index_j_next_period = epsilon_greedy(Qtable_j, epsilons[t], uniforms[t, opponent_index], state=state_next_period, price_grid=price_grid)\n",
    "\n",
    "        price_j_next_period = price_grid[price_index_j_next_period]\n",
    "        price_i_next_period = price_grid[price_index_i] # unchanged price, it's not i's turn \n",
    "        profit_i_next_period = profit(price_i_next_period, price_j_next_period)\n",
    "\n",
    "        max_Q = np.max(Qtable_i[:, price_index_j_next_period])\n",
    "        continuation_value = max_Q \n",
    "\n",
    "        new_estimate = profit_i_current_period + delta * profit_i_next_period + delta**2 * continuation_value\n",
    "\n",
    "        # Update\n",
    "        prev_estimate = Qtable_i[price_index_i, state]\n",
    "\n",
    "        # Update Q-table for player i\n",
    "        Qtable_i[price_index_i, state] = (1 - alpha) * prev_estimate + alpha * new_estimate\n",
    "\n",
    "        # Profit opponent \n",
    "        profit_opponent = profit(state_i_responds_to, decision)\n",
    "        \n",
    "        # Average profit\n",
    "        avg_profit_per_period[t-1] = (profit_i_current_period + profit_opponent) / 2\n",
    "\n",
    "        # Price\n",
    "        price_list[t-1] = price_grid[price_index_i]\n",
    "\n",
    "         # Update for the next iteration: Use the simulated next period's action as the actual action for the opponent\n",
    "        if t % 2 == 0:\n",
    "            profit_1[t-1] = profit_opponent\n",
    "            profit_2[t-1] = profit_i_current_period\n",
    "        else:\n",
    "            profit_1[t-1] = profit_i_current_period\n",
    "            profit_2[t-1] = profit_opponent\n",
    "\n",
    "        # Switch player for next period\n",
    "        Qtable_temp = Qtable_j\n",
    "        Qtable_j = Qtable_i\n",
    "        Qtable_i = Qtable_temp\n",
    "        price_index_j = price_index_i\n",
    "        price_index_i = price_index_j_next_period\n",
    "\n",
    "    return avg_profit_per_period, profit_1, profit_2, price_list\n",
    "\n",
    "\n",
    "@jit(nopython=True)\n",
    "def Simulations(sim, price, period, delta, alpha, theta):\n",
    "    total_profit_sim = np.zeros((sim, period))\n",
    "    profit_1_sim = np.zeros((sim, period))\n",
    "    profit_2_sim = np.zeros((sim, period))\n",
    "    price_list_sim = np.zeros((sim, period))\n",
    "    avg_profit = np.zeros(sim)\n",
    "    avg_profit_1 = np.zeros(sim)\n",
    "    avg_profit_2 = np.zeros(sim)\n",
    "\n",
    "    for i in range(sim):\n",
    "        total_profit_array, profit_1_array, profit_2_array, price_list_array = Qfunction(price, period, delta, alpha, theta)\n",
    "        total_profit_sim[i] = total_profit_array\n",
    "        profit_1_sim[i] = profit_1_array\n",
    "        profit_2_sim[i] = profit_2_array\n",
    "        price_list_sim[i] = price_list_array\n",
    "        avg_profit_1[i] = np.mean(profit_1_array[-1000:])\n",
    "        avg_profit_2[i] = np.mean(profit_2_array[-1000:])\n",
    "        avg_profit[i] = np.mean(total_profit_array[-1000:])\n",
    "\n",
    "    return total_profit_sim, avg_profit_1, avg_profit_2, profit_1_sim, profit_2_sim, price_list_sim"
   ]
  },
  {
   "cell_type": "markdown",
   "metadata": {},
   "source": [
    "# Time calculation for 1000 simulations"
   ]
  },
  {
   "cell_type": "code",
   "execution_count": 7,
   "metadata": {},
   "outputs": [
    {
     "name": "stdout",
     "output_type": "stream",
     "text": [
      "Time taken to run 1000 simulations: 46.01011824607849 seconds\n"
     ]
    }
   ],
   "source": [
    "start_time  = time.time()\n",
    "\n",
    "total_profit_plot, avg_profit_1_plot, avg_profit_2_plot, profit_total_1, profit_total_2, price_list = Simulations(1000, P, 500000, 0.95, 0.3, 0.0000276306)\n",
    "\n",
    "end_time = time.time()\n",
    "\n",
    "elapsed_time = end_time - start_time\n",
    "\n",
    "print(\"Time taken to run 1000 simulations:\", elapsed_time, \"seconds\")"
   ]
  },
  {
   "cell_type": "code",
   "execution_count": 8,
   "metadata": {},
   "outputs": [
    {
     "name": "stdout",
     "output_type": "stream",
     "text": [
      "(1000, 500000)\n"
     ]
    }
   ],
   "source": [
    "print(price_list.shape)"
   ]
  },
  {
   "cell_type": "code",
   "execution_count": 12,
   "metadata": {},
   "outputs": [
    {
     "name": "stdout",
     "output_type": "stream",
     "text": [
      "[0.33333333 0.16666667 0.66666667 0.5        0.33333333 0.16666667\n",
      " 0.66666667 0.5        0.33333333 0.16666667 0.66666667 0.5\n",
      " 0.33333333 0.16666667 0.66666667 0.5        0.33333333 0.16666667\n",
      " 0.66666667 0.5        0.33333333 0.16666667 0.66666667 0.5\n",
      " 0.33333333 0.16666667 0.66666667 0.5        0.33333333 0.16666667\n",
      " 0.66666667 0.5        0.33333333 0.16666667 0.66666667 0.5\n",
      " 0.33333333 0.16666667 0.66666667 0.5       ]\n"
     ]
    }
   ],
   "source": [
    "print(price_list[4,-40:])"
   ]
  },
  {
   "cell_type": "code",
   "execution_count": 23,
   "metadata": {},
   "outputs": [
    {
     "data": {
      "image/png": "[encoded data removed]",
      "text/plain": [
       "<Figure size 1296x144 with 1 Axes>"
      ]
     },
     "metadata": {
      "needs_background": "light"
     },
     "output_type": "display_data"
    }
   ],
   "source": [
    "plt.figure(figsize=(18, 2))\n",
    "plt.plot(price_list[4,-40:], '--o', label=\"Prices\")\n",
    "plt.xlabel('t')\n",
    "plt.ylabel('Prices')\n",
    "plt.ylim(0.00, 1.00)\n",
    "plt.xticks(range(40))\n",
    "plt.show()"
   ]
  },
  {
   "cell_type": "code",
   "execution_count": null,
   "metadata": {},
   "outputs": [],
   "source": []
  }
 ],
 "metadata": {
  "interpreter": {
   "hash": "cd78fef2128015050713e82ca51c6520b11aee7c9ee8df750520bbbc7384cbaa"
  },
  "kernelspec": {
   "display_name": "Python 3.9.18 ('base')",
   "language": "python",
   "name": "python3"
  },
  "language_info": {
   "codemirror_mode": {
    "name": "ipython",
    "version": 3
   },
   "file_extension": ".py",
   "mimetype": "text/x-python",
   "name": "python",
   "nbconvert_exporter": "python",
   "pygments_lexer": "ipython3",
   "version": "3.9.18"
  },
  "orig_nbformat": 4,
  "vscode": {
   "interpreter": {
    "hash": "5c7b89af1651d0b8571dde13640ecdccf7d5a6204171d6ab33e7c296e100e08a"
   }
  }
 },
 "nbformat": 4,
 "nbformat_minor": 2
}
