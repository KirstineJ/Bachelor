{
 "cells": [
  {
   "cell_type": "code",
   "execution_count": 1,
   "metadata": {},
   "outputs": [
    {
     "name": "stderr",
     "output_type": "stream",
     "text": [
      "/Applications/anaconda3/lib/python3.9/site-packages/scipy/__init__.py:146: UserWarning: A NumPy version >=1.16.5 and <1.23.0 is required for this version of SciPy (detected version 1.23.5\n",
      "  warnings.warn(f\"A NumPy version >={np_minversion} and <{np_maxversion}\"\n"
     ]
    }
   ],
   "source": [
    "import random\n",
    "import numpy as np\n",
    "import matplotlib\n",
    "import time\n",
    "from numba import jit\n",
    "import multiprocessing as mp\n",
    "from matplotlib import pyplot as plt"
   ]
  },
  {
   "cell_type": "code",
   "execution_count": 2,
   "metadata": {},
   "outputs": [],
   "source": [
    "@jit(nopython=True)\n",
    "def demand(p1, p2):\n",
    "    if p1 < p2:\n",
    "        d = 1 - p1\n",
    "    elif p1 == p2:\n",
    "        d = 0.5 * (1 - p1)\n",
    "    else:\n",
    "        d = 0\n",
    "    return d"
   ]
  },
  {
   "cell_type": "code",
   "execution_count": 3,
   "metadata": {},
   "outputs": [],
   "source": [
    "@jit(nopython=True)\n",
    "def profit(p1, p2):\n",
    "    return (p1 * demand(p1, p2))"
   ]
  },
  {
   "cell_type": "code",
   "execution_count": 4,
   "metadata": {},
   "outputs": [],
   "source": [
    "P = np.array([0, 1/6, 2/6, 3/6, 4/6, 5/6, 1]) # price array"
   ]
  },
  {
   "cell_type": "markdown",
   "metadata": {},
   "source": [
    "# Epsilon greedy hjælpefunktion"
   ]
  },
  {
   "cell_type": "code",
   "execution_count": 9,
   "metadata": {},
   "outputs": [],
   "source": [
    "np.random.seed(123)\n",
    "\n",
    "@jit(nopython=True)\n",
    "def epsilon_greedy(Qtable, epsilon, uniform, state: int, price_grid: np.ndarray) -> int: \n",
    "    N = len(price_grid)\n",
    "    assert Qtable.shape[0] == N, \"Qtable must have the same number of rows as there are prices in the grid\"\n",
    "    assert Qtable.shape[1] == N, \"Qtable must have the same number of columns as there are prices in the grid\"\n",
    "    assert state < N, \"state must be a valid index in the price grid\"\n",
    "    assert state >= 0, \"state must be a valid index in the price grid\"\n",
    "\n",
    "    # Draw action \n",
    "    if uniform < epsilon:\n",
    "        price_index = np.random.choice(N)\n",
    "        #print(\"Random\")\n",
    "    else:\n",
    "        price_index = np.argmax(Qtable[:, state])\n",
    "        #print(\"Qtable\")\n",
    "    return price_index"
   ]
  },
  {
   "cell_type": "markdown",
   "metadata": {},
   "source": [
    "# Q-learning and simulation function"
   ]
  },
  {
   "cell_type": "code",
   "execution_count": 6,
   "metadata": {},
   "outputs": [],
   "source": [
    "np.random.seed(123)\n",
    "\n",
    "@jit(nopython=True)\n",
    "def Qfunction_test(price_grid, period, delta, alpha, theta):\n",
    "    # Initialize prices and Q-tables\n",
    "    price_index_i = np.random.choice(len(price_grid)) \n",
    "    price_index_j = np.random.choice(len(price_grid)) \n",
    "\n",
    "    Qtable_i = np.zeros((len(price_grid), len(price_grid)))\n",
    "    Qtable_j = np.zeros((len(price_grid), len(price_grid)))\n",
    "\n",
    "    profit_1 = np.zeros(int(period))\n",
    "    profit_2 = np.zeros(int(period))\n",
    "\n",
    "    total_profit = np.zeros(period)\n",
    "\n",
    "    deviating = 0\n",
    "\n",
    "    epsilons = (1 - theta)**np.arange(period + 1)\n",
    "    uniforms = np.random.uniform(0, 1, (period + 1, 2))\n",
    "\n",
    "    for t in range(1, period + 1):\n",
    "        #epsilon = (1-theta)**t\n",
    "        # figure out who's turn it is\n",
    "        if t % 2 == 0:\n",
    "            # player 2 is the responder\n",
    "            # set up pointers to the state and the Q table \n",
    "            state = price_index_i # the most recent draw of player 1's price\n",
    "            Qtable_i = Qtable_j\n",
    "            Qtable_j = Qtable_i\n",
    "            player_index = 1\n",
    "            opponent_index = 0\n",
    "        else:\n",
    "            # player 1 is the responder\n",
    "            state = price_index_j\n",
    "            Qtable_i = Qtable_i\n",
    "            Qtable_j = Qtable_j\n",
    "            player_index = 0\n",
    "            opponent_index = 1\n",
    "\n",
    "        # current period \n",
    "        if price_index_i == 3 and state == 3 and t == 485001:\n",
    "            print(profit(price_grid[price_index_i], price_grid[state]))\n",
    "            price_index_i = 2\n",
    "            print(profit(price_grid[price_index_i], price_grid[state]))\n",
    "            deviating = 1\n",
    "\n",
    "\n",
    "        decision = price_grid[price_index_i]\n",
    "        state_i_responds_to = price_grid[state]\n",
    "        profit_i_current_period = profit(decision, state_i_responds_to)\n",
    "\n",
    "        # next period \n",
    "        state_next_period = price_index_i # next_period's state is today's price\n",
    "        price_index_j_next_period = epsilon_greedy(Qtable_j, epsilons[t], uniforms[t, opponent_index], state=state_next_period, price_grid=price_grid)\n",
    "\n",
    "        price_j_next_period = price_grid[price_index_j_next_period]\n",
    "\n",
    "        \n",
    "\n",
    "        price_i_next_period = price_grid[price_index_i] # unchanged price, it's not i's turn \n",
    "        profit_i_next_period = profit(price_i_next_period, price_j_next_period)\n",
    "\n",
    "        max_Q = np.max(Qtable_i[:, price_index_j_next_period])\n",
    "        continuation_value = max_Q \n",
    "\n",
    "        new_estimate = profit_i_current_period + delta * profit_i_next_period + delta**2 * continuation_value\n",
    "\n",
    "        # Update\n",
    "        prev_estimate = Qtable_i[price_index_i, price_index_j]\n",
    "        Qtable_i[price_index_i, price_index_j] = (1 - alpha) * prev_estimate + alpha * new_estimate\n",
    "\n",
    "\n",
    "         # Update for the next iteration: Use the simulated next period's action as the actual action for the opponent\n",
    "        if t % 2 == 0:\n",
    "        # If current period is Player 2's turn, update Player 1's price for the next period\n",
    "            price_index_i = price_index_j_next_period\n",
    "            profit_1[t-1] = profit(state_i_responds_to, decision)\n",
    "            profit_2[t-1] = profit_i_current_period\n",
    "        else:\n",
    "        # If current period is Player 1's turn, update Player 2's price for the next period\n",
    "            price_index_j = price_index_j_next_period\n",
    "            profit_1[t-1] = profit_i_current_period\n",
    "            profit_2[t-1] = profit(state_i_responds_to, decision)\n",
    "\n",
    "        # Profit\n",
    "        total_profit[t-1] = profit_i_current_period\n",
    "\n",
    "    return total_profit, profit_1, profit_2, deviating\n"
   ]
  },
  {
   "cell_type": "code",
   "execution_count": 122,
   "metadata": {},
   "outputs": [],
   "source": [
    "np.random.seed(123)\n",
    "\n",
    "@jit(nopython=True)\n",
    "def Qfunction(price_grid, period, delta, alpha, theta):\n",
    "    # Initialize prices and Q-tables\n",
    "    price_index_i = np.random.choice(len(price_grid)) \n",
    "    price_index_j = np.random.choice(len(price_grid)) \n",
    "\n",
    "    Qtable_i = np.zeros((len(price_grid), len(price_grid)))\n",
    "    Qtable_j = np.zeros((len(price_grid), len(price_grid)))\n",
    "    Qtable_temp = np.zeros((len(price_grid), len(price_grid)))\n",
    "\n",
    "    profit_1 = np.zeros(int(period))\n",
    "    profit_2 = np.zeros(int(period))\n",
    "\n",
    "    total_profit = np.zeros(period)\n",
    "\n",
    "    deviating = 0\n",
    "\n",
    "    epsilons = (1 - theta)**np.arange(period + 1)\n",
    "    uniforms = np.random.uniform(0, 1, (period + 1, 2))\n",
    "\n",
    "    for t in range(1, period + 1):\n",
    "        state = price_index_j # the most recent draw of player i's price\n",
    "\n",
    "        # figure out who's turn it is\n",
    "        if t % 2 == 0:\n",
    "            # player 2 is the responder\n",
    "            opponent_index = 0\n",
    "        else:\n",
    "            # player 1 is the responder\n",
    "            opponent_index = 1\n",
    "        \n",
    "        #if price_index_i == 3 and price_index_j == 3 and state == 3 and t == 485001:\n",
    "       \n",
    "        \n",
    "        # current period \n",
    "        decision = price_grid[price_index_i]\n",
    "        state_i_responds_to = price_grid[state]\n",
    "        profit_i_current_period = profit(decision, state_i_responds_to)\n",
    "\n",
    "        # next period \n",
    "        state_next_period = price_index_i # next_period's state is today's price\n",
    "        price_index_j_next_period = epsilon_greedy(Qtable_j, epsilons[t], uniforms[t, opponent_index], state=state_next_period, price_grid=price_grid)\n",
    "\n",
    "        price_j_next_period = price_grid[price_index_j_next_period]\n",
    "        price_i_next_period = price_grid[price_index_i] # unchanged price, it's not i's turn \n",
    "        profit_i_next_period = profit(price_i_next_period, price_j_next_period)\n",
    "\n",
    "        max_Q = np.max(Qtable_i[:, price_index_j_next_period])\n",
    "        continuation_value = max_Q \n",
    "\n",
    "        new_estimate = profit_i_current_period + delta * profit_i_next_period + delta**2 * continuation_value\n",
    "\n",
    "        # Update\n",
    "        prev_estimate = Qtable_i[price_index_i, state]\n",
    "\n",
    "        # Update Q-table for player i\n",
    "        Qtable_i[price_index_i, state] = (1 - alpha) * prev_estimate + alpha * new_estimate\n",
    "        \n",
    "        # Profit opponent \n",
    "        profit_opponent = profit(state_i_responds_to, decision)\n",
    "        \n",
    "        # Profit\n",
    "        total_profit[t-1] = (profit_i_current_period + profit_opponent) / 2\n",
    "\n",
    "\n",
    "         # Update for the next iteration: Use the simulated next period's action as the actual action for the opponent\n",
    "        if t % 2 == 0:\n",
    "            profit_1[t-1] = profit_opponent\n",
    "            profit_2[t-1] = profit_i_current_period\n",
    "        else:\n",
    "            profit_1[t-1] = profit_i_current_period\n",
    "            profit_2[t-1] = profit_opponent\n",
    "        \n",
    "\n",
    "        Qtable_temp = Qtable_j\n",
    "        Qtable_j = Qtable_i\n",
    "        Qtable_i = Qtable_temp\n",
    "        price_index_j = price_index_i\n",
    "        price_index_i = price_index_j_next_period\n",
    "\n",
    "        if profit_1[t] == 0.125 and profit_2[t-1] == 0.125 and t == 485001:\n",
    "            #print(profit(price_grid[price_index_i], price_grid[state]))\n",
    "            price_index_i = 2\n",
    "            #print(profit(price_grid[price_index_i], price_grid[state]))\n",
    "            deviating = 1\n",
    "\n",
    "    return total_profit, profit_1, profit_2, deviating"
   ]
  },
  {
   "cell_type": "code",
   "execution_count": 123,
   "metadata": {},
   "outputs": [],
   "source": [
    "#@jit(nopython=True)\n",
    "def Simulations(sim, price, period, delta, alpha, theta):\n",
    "    total_profit_sim = np.zeros((sim, period))\n",
    "    profit_1_sim = np.zeros((sim, period))\n",
    "    profit_2_sim = np.zeros((sim, period))\n",
    "    avg_profit = np.zeros(sim)\n",
    "    avg_profit_1 = np.zeros(sim)\n",
    "    avg_profit_2 = np.zeros(sim)\n",
    "    deviating_sim = np.zeros(sim)\n",
    "    change_arr = np.zeros((1,25))\n",
    "    change_arr2 = np.zeros((1,25))\n",
    "\n",
    "    for i in range(sim):\n",
    "        total_profit_array, profit_1_array, profit_2_array, deviating_array = Qfunction(price, period, delta, alpha, theta)\n",
    "        total_profit_sim[i] = total_profit_array\n",
    "        profit_1_sim[i] = profit_1_array\n",
    "        profit_2_sim[i] = profit_2_array\n",
    "        deviating_sim[i] = deviating_array\n",
    "        avg_profit_1[i] = np.mean(profit_1_array[-1000:])\n",
    "        avg_profit_2[i] = np.mean(profit_2_array[-1000:])\n",
    "        avg_profit[i] = np.mean(total_profit_array[-1000:])\n",
    "\n",
    "        if deviating_array == 1:\n",
    "            change_arr = np.vstack((change_arr, profit_1_array[484991:485016:1]))\n",
    "            change_arr2 = np.vstack((change_arr2, profit_2_array[484991:485016:1]))\n",
    "\n",
    "    return total_profit_sim, avg_profit_1, avg_profit_2, profit_1_sim, profit_2_sim, deviating_sim, change_arr, change_arr2"
   ]
  },
  {
   "cell_type": "markdown",
   "metadata": {},
   "source": [
    "# Time calculation for 1000 simulations"
   ]
  },
  {
   "cell_type": "code",
   "execution_count": 124,
   "metadata": {},
   "outputs": [
    {
     "name": "stdout",
     "output_type": "stream",
     "text": [
      "Time taken to run 1000 simulations: 33.68209099769592 seconds\n"
     ]
    }
   ],
   "source": [
    "start_time  = time.time()\n",
    "\n",
    "np.random.seed(123)\n",
    "total_profit_plot, avg_profit_1_plot, avg_profit_2_plot, profit_total_1, profit_total_2, deviating, change_arr_1, change_arr_2 = Simulations(1000, P, 500000, 0.95, 0.3, 0.0137205)\n",
    "\n",
    "end_time = time.time()\n",
    "\n",
    "elapsed_time = end_time - start_time\n",
    "\n",
    "print(\"Time taken to run 1000 simulations:\", elapsed_time, \"seconds\")"
   ]
  },
  {
   "cell_type": "code",
   "execution_count": 125,
   "metadata": {},
   "outputs": [
    {
     "name": "stdout",
     "output_type": "stream",
     "text": [
      "[0. 0. 0. 0. 0. 0. 0. 0. 0. 0. 0. 0. 0. 0. 0. 0. 0. 0. 0. 0. 0. 0. 0. 0.\n",
      " 0. 0. 0. 0. 0. 0. 0. 0. 0. 0. 0. 0. 0. 0. 0. 0. 0. 0. 0. 0. 0. 0. 0. 0.\n",
      " 0. 0. 0. 0. 0. 0. 0. 0. 0. 0. 0. 0. 0. 0. 0. 0. 0. 0. 0. 0. 0. 0. 0. 0.\n",
      " 0. 0. 0. 0. 0. 0. 0. 0. 0. 0. 0. 0. 0. 0. 0. 0. 0. 0. 0. 0. 0. 0. 0. 0.\n",
      " 0. 0. 0. 0. 0. 0. 0. 0. 0. 0. 0. 0. 0. 0. 0. 0. 0. 0. 0. 0. 0. 0. 0. 0.\n",
      " 0. 0. 0. 0. 0. 0. 0. 0. 0. 0. 0. 0. 0. 0. 0. 0. 0. 0. 0. 0. 0. 0. 0. 0.\n",
      " 0. 0. 0. 0. 0. 0. 0. 0. 0. 0. 0. 0. 0. 0. 0. 0. 0. 0. 0. 0. 0. 0. 0. 0.\n",
      " 0. 0. 0. 0. 0. 0. 0. 0. 0. 0. 0. 0. 0. 0. 0. 0. 0. 0. 0. 0. 0. 0. 0. 0.\n",
      " 0. 0. 0. 0. 0. 0. 0. 0. 0. 0. 0. 0. 0. 0. 0. 0. 0. 0. 0. 0. 0. 0. 0. 0.\n",
      " 0. 0. 0. 0. 0. 0. 0. 0. 0. 0. 0. 0. 0. 0. 0. 0. 0. 0. 0. 0. 0. 0. 0. 0.\n",
      " 0. 0. 0. 0. 0. 0. 0. 0. 0. 0. 0. 0. 0. 0. 0. 0. 0. 0. 0. 0. 0. 0. 0. 0.\n",
      " 0. 0. 0. 0. 0. 0. 0. 0. 0. 0. 0. 0. 0. 0. 0. 0. 0. 0. 0. 0. 0. 0. 0. 0.\n",
      " 0. 0. 0. 0. 0. 0. 0. 0. 0. 0. 0. 0. 0. 0. 0. 0. 0. 0. 0. 0. 0. 0. 0. 0.\n",
      " 0. 0. 0. 0. 0. 0. 0. 0. 0. 0. 0. 0. 0. 0. 0. 0. 0. 0. 0. 0. 0. 0. 0. 0.\n",
      " 0. 0. 0. 0. 0. 0. 0. 0. 0. 0. 0. 0. 0. 0. 0. 0. 0. 0. 0. 0. 0. 0. 0. 0.\n",
      " 0. 0. 0. 0. 0. 0. 0. 0. 0. 0. 0. 0. 0. 0. 0. 0. 0. 0. 0. 0. 0. 0. 0. 0.\n",
      " 0. 0. 0. 0. 0. 0. 0. 0. 0. 0. 0. 0. 0. 0. 0. 0. 0. 0. 0. 0. 0. 0. 0. 0.\n",
      " 0. 0. 0. 0. 0. 0. 0. 0. 0. 0. 0. 0. 0. 0. 0. 0. 0. 0. 0. 0. 0. 0. 0. 0.\n",
      " 0. 0. 0. 0. 0. 0. 0. 0. 0. 0. 0. 0. 0. 0. 0. 0. 0. 0. 0. 0. 0. 0. 0. 0.\n",
      " 0. 0. 0. 0. 0. 0. 0. 0. 0. 0. 0. 0. 0. 0. 0. 0. 0. 0. 0. 0. 0. 0. 0. 0.\n",
      " 0. 0. 0. 0. 0. 0. 0. 0. 0. 0. 0. 0. 0. 0. 0. 0. 0. 0. 0. 0. 0. 0. 0. 0.\n",
      " 0. 0. 0. 0. 0. 0. 0. 0. 0. 0. 0. 0. 0. 0. 0. 0. 0. 0. 0. 0. 0. 0. 0. 0.\n",
      " 0. 0. 0. 0. 0. 0. 0. 0. 0. 0. 0. 0. 0. 0. 0. 0. 0. 0. 0. 0. 0. 0. 0. 0.\n",
      " 0. 0. 0. 0. 0. 0. 0. 0. 0. 0. 0. 0. 0. 0. 0. 0. 0. 0. 0. 0. 0. 0. 0. 0.\n",
      " 0. 0. 0. 0. 0. 0. 0. 0. 0. 0. 0. 0. 0. 0. 0. 0. 0. 0. 0. 0. 0. 0. 0. 0.\n",
      " 0. 0. 0. 0. 0. 0. 0. 0. 0. 0. 0. 0. 0. 0. 0. 0. 0. 0. 0. 0. 0. 0. 0. 0.\n",
      " 0. 0. 0. 0. 0. 0. 0. 0. 0. 0. 0. 0. 0. 0. 0. 0. 0. 0. 0. 0. 0. 0. 0. 0.\n",
      " 0. 0. 0. 0. 0. 0. 0. 0. 0. 0. 0. 0. 0. 0. 0. 0. 0. 0. 0. 0. 0. 0. 0. 0.\n",
      " 0. 0. 0. 0. 0. 0. 0. 0. 0. 0. 0. 0. 0. 0. 0. 0. 0. 0. 0. 0. 0. 0. 0. 0.\n",
      " 0. 0. 0. 0. 0. 0. 0. 0. 0. 0. 0. 0. 0. 0. 0. 0. 0. 0. 0. 0. 0. 0. 0. 0.\n",
      " 0. 0. 0. 0. 0. 0. 0. 0. 0. 0. 0. 0. 0. 0. 0. 0. 0. 0. 0. 0. 0. 0. 0. 0.\n",
      " 0. 0. 0. 0. 0. 0. 0. 0. 0. 0. 0. 0. 0. 0. 0. 0. 0. 0. 0. 0. 0. 0. 0. 0.\n",
      " 0. 0. 0. 0. 0. 0. 0. 0. 0. 0. 0. 0. 0. 0. 0. 0. 0. 0. 0. 0. 0. 0. 0. 0.\n",
      " 0. 0. 0. 0. 0. 0. 0. 0. 0. 0. 0. 0. 0. 0. 0. 0. 0. 0. 0. 0. 0. 0. 0. 0.\n",
      " 0. 0. 0. 0. 0. 0. 0. 0. 0. 0. 0. 0. 0. 0. 0. 0. 0. 0. 0. 0. 0. 0. 0. 0.\n",
      " 0. 0. 0. 0. 0. 0. 0. 0. 0. 0. 0. 0. 0. 0. 0. 0. 0. 0. 0. 0. 0. 0. 0. 0.\n",
      " 0. 0. 0. 0. 0. 0. 0. 0. 0. 0. 0. 0. 0. 0. 0. 0. 0. 0. 0. 0. 0. 0. 0. 0.\n",
      " 0. 0. 0. 0. 0. 0. 0. 0. 0. 0. 0. 0. 0. 0. 0. 0. 0. 0. 0. 0. 0. 0. 0. 0.\n",
      " 0. 0. 0. 0. 0. 0. 0. 0. 0. 0. 0. 0. 0. 0. 0. 0. 0. 0. 0. 0. 0. 0. 0. 0.\n",
      " 0. 0. 0. 0. 0. 0. 0. 0. 0. 0. 0. 0. 0. 0. 0. 0. 0. 0. 0. 0. 0. 0. 0. 0.\n",
      " 0. 0. 0. 0. 0. 0. 0. 0. 0. 0. 0. 0. 0. 0. 0. 0. 0. 0. 0. 0. 0. 0. 0. 0.\n",
      " 0. 0. 0. 0. 0. 0. 0. 0. 0. 0. 0. 0. 0. 0. 0. 0.]\n",
      "(1, 25)\n",
      "(1, 25)\n"
     ]
    }
   ],
   "source": [
    "print(deviating)\n",
    "for i in range(len(deviating)):\n",
    "    if deviating[i] == 1:\n",
    "        print(i)\n",
    "print(change_arr_2.shape)\n",
    "print(change_arr_1.shape)"
   ]
  },
  {
   "cell_type": "code",
   "execution_count": 119,
   "metadata": {},
   "outputs": [],
   "source": [
    "def moving_avg(fst_arr, snd_arr, window_size):\n",
    "\n",
    "    moving_averages = []\n",
    "    moving_averages2 = []\n",
    "    i = 0\n",
    "    while i < len(fst_arr) - window_size + 1:\n",
    "    \n",
    "        # Calculate the average of current window\n",
    "        window_average = np.sum(fst_arr[\n",
    "        i:i+window_size]) / window_size\n",
    "        window_average2 = np.sum(snd_arr[\n",
    "        i:i+window_size]) / window_size\n",
    "        \n",
    "        # Store the average of current\n",
    "        # window in moving average list\n",
    "        moving_averages.append(window_average)\n",
    "        moving_averages2.append(window_average2)\n",
    "\n",
    "        \n",
    "        # Shift window to right by one position\n",
    "        i += 1\n",
    "    return moving_averages, moving_averages2"
   ]
  },
  {
   "cell_type": "code",
   "execution_count": 120,
   "metadata": {},
   "outputs": [
    {
     "data": {
      "image/png": "[encoded data removed]",
      "text/plain": [
       "<Figure size 432x288 with 1 Axes>"
      ]
     },
     "metadata": {
      "needs_background": "light"
     },
     "output_type": "display_data"
    }
   ],
   "source": [
    "dev_arr = np.mean(change_arr_1, axis=0)\n",
    "dev_arr2 = np.mean(change_arr_2, axis=0)\n",
    "\n",
    "deviation_arr, deviation_arr2 = moving_avg(dev_arr, dev_arr2, 2)\n",
    "\n",
    "deviation_t = np.arange(484994,485018, 2)\n",
    "deviation_t2 = np.arange(484995,485019, 2)\n",
    "deviation_arr = deviation_arr[0:24:2]\n",
    "deviation_arr2 = deviation_arr2[1:25:2]\n",
    "plt.plot(deviation_t, deviation_arr, '--o', label='Firm 1 (Deviator)')\n",
    "plt.plot(deviation_t2, deviation_arr2, 's--', label='Firm 2')\n",
    "plt.vlines(x=485000, ymin=0.00, ymax=0.2, linestyle = '--')\n",
    "plt.xlabel(\"Period around deviation\")\n",
    "plt.ylabel(\"Avg. profit\")\n",
    "plt.ylim(0.00,0.2)\n",
    "plt.legend()\n",
    "plt.show()"
   ]
  },
  {
   "cell_type": "code",
   "execution_count": null,
   "metadata": {},
   "outputs": [],
   "source": []
  }
 ],
 "metadata": {
  "interpreter": {
   "hash": "cd78fef2128015050713e82ca51c6520b11aee7c9ee8df750520bbbc7384cbaa"
  },
  "kernelspec": {
   "display_name": "Python 3 (ipykernel)",
   "language": "python",
   "name": "python3"
  },
  "language_info": {
   "codemirror_mode": {
    "name": "ipython",
    "version": 3
   },
   "file_extension": ".py",
   "mimetype": "text/x-python",
   "name": "python",
   "nbconvert_exporter": "python",
   "pygments_lexer": "ipython3",
   "version": "3.9.18"
  },
  "vscode": {
   "interpreter": {
    "hash": "5c7b89af1651d0b8571dde13640ecdccf7d5a6204171d6ab33e7c296e100e08a"
   }
  }
 },
 "nbformat": 4,
 "nbformat_minor": 2
}
