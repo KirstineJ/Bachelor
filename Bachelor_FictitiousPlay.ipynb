{
 "cells": [
  {
   "cell_type": "code",
   "execution_count": 14,
   "metadata": {},
   "outputs": [],
   "source": [
    "import random\n",
    "import numpy as np\n",
    "import matplotlib\n",
    "import time\n",
    "from numba import jit\n",
    "import multiprocessing as mp\n",
    "from matplotlib import pyplot as plt"
   ]
  },
  {
   "cell_type": "code",
   "execution_count": 15,
   "metadata": {},
   "outputs": [],
   "source": [
    "@jit(nopython=True)\n",
    "def demand(p1, p2):\n",
    "    if p1 < p2:\n",
    "        d = 1 - p1\n",
    "    elif p1 == p2:\n",
    "        d = 0.5 * (1 - p1)\n",
    "    else:\n",
    "        d = 0\n",
    "    return d"
   ]
  },
  {
   "cell_type": "code",
   "execution_count": 16,
   "metadata": {},
   "outputs": [],
   "source": [
    "@jit(nopython=True)\n",
    "def profit(p1, p2):\n",
    "    return (p1 * demand(p1, p2))"
   ]
  },
  {
   "cell_type": "code",
   "execution_count": 17,
   "metadata": {},
   "outputs": [],
   "source": [
    "P = np.array([0, 1/6, 2/6, 3/6, 4/6, 5/6, 1]) # price array"
   ]
  },
  {
   "cell_type": "code",
   "execution_count": 18,
   "metadata": {},
   "outputs": [],
   "source": [
    "@jit(nopython=True)\n",
    "def best_response(p_jt, price_grid):\n",
    "    best_response = 0\n",
    "    max_profit = -1\n",
    "    for p_it in price_grid:  # Iterer gennem en række mulige priser for p_it\n",
    "        current_profit = profit(p_it, p_jt)\n",
    "        if current_profit > max_profit:\n",
    "            max_profit = current_profit\n",
    "            best_response = p_it\n",
    "    best_response_index = np.where(price_grid==best_response)[0][0]\n",
    "    return best_response_index"
   ]
  },
  {
   "cell_type": "code",
   "execution_count": 19,
   "metadata": {},
   "outputs": [],
   "source": [
    "@jit(nopython=True)\n",
    "def FictitiousPlay(price_grid, period):\n",
    "    # Q-tables and arrays\n",
    "    Qtable_i = np.zeros((len(price_grid), len(price_grid)))\n",
    "    Qtable_j = np.zeros((len(price_grid), len(price_grid)))\n",
    "    Qtable_temp = np.zeros((len(price_grid), len(price_grid)))\n",
    "\n",
    "    ProfitTable_i = np.zeros((len(price_grid), len(price_grid)))\n",
    "    Expected_ProfitVector_i = np.zeros(len(price_grid))\n",
    "\n",
    "    profit_1 = np.zeros(int(period))\n",
    "    profit_2 = np.zeros(int(period))\n",
    "\n",
    "    total_profit = np.zeros(period)\n",
    "\n",
    "    # Period 0\n",
    "    price_index_j = np.random.choice(len(price_grid)) \n",
    "    price_index_i = np.random.choice(len(price_grid)) \n",
    "    #print(\"t = 1\")\n",
    "    #print(\"price_index_i:\", price_index_i)\n",
    "\n",
    "    # Period 2\n",
    "    #price_index_j = best_response(price_index_i, price_grid)\n",
    "    #print(\"t = 2\")\n",
    "    #print(\"price_index_j:\", price_index_j)\n",
    "\n",
    "    for t in range(1, period + 1):\n",
    "        #print(\"t = \", t)\n",
    "        # Current period\n",
    "        #Qtable_i[price_index_i, price_index_j] = Qtable_i[price_index_i, price_index_j] + 1\n",
    "        #print(\"Qtable_i: \\n\", Qtable_i)\n",
    "        # Opdater Q-tables baseret på valgte priser\n",
    "        Qtable_i[:, price_index_j] += 1\n",
    "        #print(\"Qtable_i:\\n\", Qtable_i)\n",
    "\n",
    "        # Beregn sandsynlighedsvektorer for modstanderens valg\n",
    "        prob_i = Qtable_i[price_index_j, :] / np.sum(Qtable_i[price_index_j, :])\n",
    "        #print(\"prob_i:\", prob_i)\n",
    "\n",
    "\n",
    "        #print(\"opponent_actions:\", opponent_actions)\n",
    "        for i in range(len(price_grid)):\n",
    "            for j in range(len(price_grid)):\n",
    "                #print(\"profit(price_grid[i], price_grid[j])\", profit(price_grid[i], price_grid[j]))\n",
    "                #print(\"Qtable_i[i, j]\", Qtable_i[i, j])\n",
    "                ProfitTable_i[i, j] = profit(price_grid[i], price_grid[j])*prob_i[j]\n",
    "            Expected_ProfitVector_i[i] = np.sum(ProfitTable_i[i, :])\n",
    "        #print(\"Qtable_i efter division:\\n\", Qtable_i)\n",
    "        #print(\"ProfitTable_t:\\n\", ProfitTable_i)\n",
    "        #print(\"ProfitVector_i:\\n\", Expected_ProfitVector_i)\n",
    "\n",
    "        price_index_i = np.argmax(Expected_ProfitVector_i)\n",
    "        #print(\"price_index_i:\", price_index_i)\n",
    "\n",
    "        print(\"price_index_i:\", price_index_i)\n",
    "        print(\"price_index_j:\", price_index_j)\n",
    "        profit_opponent = profit(price_grid[price_index_j], price_grid[price_index_i])\n",
    "        profit_i_current_period = profit(price_grid[price_index_i], price_grid[price_index_j])\n",
    "        print(\"profit_op:\", profit_opponent)\n",
    "        print(\"profit_current:\", profit_i_current_period)\n",
    "\n",
    "        # Profit\n",
    "        total_profit[t-1] = (profit_i_current_period + profit_opponent) / 2\n",
    "\n",
    "        # Update for the next iteration: Use the simulated next period's action as the actual action for the opponent\n",
    "        if t % 2 == 0:\n",
    "            profit_1[t-1] = profit_opponent\n",
    "            profit_2[t-1] = profit_i_current_period\n",
    "        else:\n",
    "            profit_1[t-1] = profit_i_current_period\n",
    "            profit_2[t-1] = profit_opponent\n",
    "\n",
    "        # Switch player for next period\n",
    "        Qtable_temp = Qtable_j\n",
    "        Qtable_j = Qtable_i\n",
    "        Qtable_i = Qtable_temp\n",
    "        #price_index_temp = price_index_j\n",
    "        price_index_j = price_index_i\n",
    "        #price_index_i = price_index_temp\n",
    "    \n",
    "    return total_profit, profit_1, profit_2"
   ]
  },
  {
   "cell_type": "code",
   "execution_count": 20,
   "metadata": {},
   "outputs": [
    {
     "name": "stdout",
     "output_type": "stream",
     "text": [
      "price_index_i: 3\n",
      "price_index_j: 4\n",
      "profit_op: 0.0\n",
      "profit_current: 0.25\n",
      "price_index_i: 2\n",
      "price_index_j: 3\n",
      "profit_op: 0.0\n",
      "profit_current: 0.22222222222222224\n",
      "price_index_i: 2\n",
      "price_index_j: 2\n",
      "profit_op: 0.11111111111111112\n",
      "profit_current: 0.11111111111111112\n",
      "price_index_i: 2\n",
      "price_index_j: 2\n",
      "profit_op: 0.11111111111111112\n",
      "profit_current: 0.11111111111111112\n",
      "price_index_i: 2\n",
      "price_index_j: 2\n",
      "profit_op: 0.11111111111111112\n",
      "profit_current: 0.11111111111111112\n",
      "price_index_i: 2\n",
      "price_index_j: 2\n",
      "profit_op: 0.11111111111111112\n",
      "profit_current: 0.11111111111111112\n",
      "price_index_i: 1\n",
      "price_index_j: 2\n",
      "profit_op: 0.0\n",
      "profit_current: 0.1388888888888889\n"
     ]
    },
    {
     "data": {
      "text/plain": [
       "(array([0.125     , 0.11111111, 0.11111111, 0.11111111, 0.11111111,\n",
       "        0.11111111, 0.06944444]),\n",
       " array([0.25      , 0.        , 0.11111111, 0.11111111, 0.11111111,\n",
       "        0.11111111, 0.13888889]),\n",
       " array([0.        , 0.22222222, 0.11111111, 0.11111111, 0.11111111,\n",
       "        0.11111111, 0.        ]))"
      ]
     },
     "execution_count": 20,
     "metadata": {},
     "output_type": "execute_result"
    }
   ],
   "source": [
    "FictitiousPlay(P, 7)"
   ]
  },
  {
   "cell_type": "code",
   "execution_count": 21,
   "metadata": {},
   "outputs": [],
   "source": [
    "@jit(nopython=True)\n",
    "def Simulations(sim, price_grid, period):\n",
    "    total_profit_sim = np.zeros((sim, period))\n",
    "    profit_1_sim = np.zeros((sim, period))\n",
    "    profit_2_sim = np.zeros((sim, period))\n",
    "    avg_profit = np.zeros(sim)\n",
    "    avg_profit_1 = np.zeros(sim)\n",
    "    avg_profit_2 = np.zeros(sim)\n",
    "\n",
    "    for i in range(sim):\n",
    "        total_profit_array, profit_1_array, profit_2_array = FictitiousPlay(price_grid, period)\n",
    "        total_profit_sim[i] = total_profit_array\n",
    "        profit_1_sim[i] = profit_1_array\n",
    "        profit_2_sim[i] = profit_2_array\n",
    "        avg_profit_1[i] = np.mean(profit_1_array[-1000:])\n",
    "        avg_profit_2[i] = np.mean(profit_2_array[-1000:])\n",
    "\n",
    "    return total_profit_sim, avg_profit_1, avg_profit_2, profit_1_sim, profit_2_sim"
   ]
  },
  {
   "cell_type": "code",
   "execution_count": 22,
   "metadata": {},
   "outputs": [],
   "source": [
    "start_time  = time.time()\n",
    "\n",
    "total_profit_plot, avg_profit_1_plot, avg_profit_2_plot, profit_total_1, profit_total_2 = Simulations(1000, P, 500000)\n",
    "\n",
    "end_time = time.time()\n",
    "\n",
    "elapsed_time = end_time - start_time\n",
    "\n",
    "print(\"Time taken to run 1000 simulations:\", elapsed_time, \"seconds\")"
   ]
  },
  {
   "cell_type": "code",
   "execution_count": 9,
   "metadata": {},
   "outputs": [],
   "source": [
    "samlet_prof = total_profit_plot.mean(0)\n",
    "window_size = 1000\n",
    "  \n",
    "i = 0\n",
    "# Initialize an empty list to store moving averages\n",
    "moving_averages = []\n",
    "# Loop through the array t o\n",
    "#consider every window of size 1000\n",
    "while i < len(samlet_prof) - window_size + 1:\n",
    "  \n",
    "    # Calculate the average of current window\n",
    "    window_average = np.sum(samlet_prof[i:i+window_size]) / window_size\n",
    "      \n",
    "    # Store the average of current\n",
    "    # window in moving average list\n",
    "    moving_averages.append(window_average)\n",
    "      \n",
    "    # Shift window to right by one position\n",
    "    i += 1"
   ]
  },
  {
   "cell_type": "code",
   "execution_count": 10,
   "metadata": {},
   "outputs": [
    {
     "data": {
      "image/png": "[encoded data removed]",
      "text/plain": [
       "<Figure size 640x480 with 1 Axes>"
      ]
     },
     "metadata": {},
     "output_type": "display_data"
    }
   ],
   "source": [
    "plt.plot(moving_averages, color='#a62626', label=\"Average profitability\")\n",
    "plt.xlabel('t')\n",
    "plt.ylabel('Avg. profitability')\n",
    "plt.ylim(0.00, 0.15)\n",
    "plt.hlines(y=0.0611, xmin=0, xmax=500000, colors='red', linestyles='--')\n",
    "plt.hlines(y=0.125, xmin=0, xmax=500000, colors='red', linestyles='--')\n",
    "plt.show()"
   ]
  },
  {
   "cell_type": "code",
   "execution_count": 37,
   "metadata": {},
   "outputs": [],
   "source": [
    "def FictitiousPlay_2(price_grid, period, profit_function):\n",
    "    K = len(price_grid)\n",
    "    Q_i = np.zeros((K, K))  # Q-table for spiller i\n",
    "    Q_j = np.zeros((K, K))  # Q-table for spiller j\n",
    "\n",
    "    total_profit = np.zeros(period)\n",
    "\n",
    "    profit_1 = np.zeros(int(period))\n",
    "    profit_2 = np.zeros(int(period))\n",
    "\n",
    "    # Vælg tilfældige startpriser for spillerne i og j\n",
    "    price_index_i = np.random.choice(K)\n",
    "    price_index_j = np.random.choice(K)\n",
    "\n",
    "    for t in range(1, period + 1):\n",
    "        # Opdater Q-tables baseret på valgte priser\n",
    "        Q_i[:, price_index_j] += 1\n",
    "        Q_j[:, price_index_i] += 1\n",
    "\n",
    "        # Beregn sandsynlighedsvektorer for modstanderens valg\n",
    "        prob_i = Q_i[price_index_i, :] / np.sum(Q_i[price_index_i, :])\n",
    "        prob_j = Q_j[price_index_j, :] / np.sum(Q_j[price_index_j, :])\n",
    "\n",
    "        # Beregn den forventede profit for hver pris i price_grid for spiller i og j\n",
    "        expected_profit_i = np.array([np.sum(prob_j * np.array([profit_function(p_i, p_j) for p_j in price_grid])) for p_i in price_grid])\n",
    "        expected_profit_j = np.array([np.sum(prob_i * np.array([profit_function(p_j, p_i) for p_i in price_grid])) for p_j in price_grid])\n",
    "\n",
    "        # Vælg priser baseret på den højeste forventede profit\n",
    "        price_index_i = np.argmax(expected_profit_i)\n",
    "        price_index_j = np.argmax(expected_profit_j)\n",
    "\n",
    "        # Beregn og gem den samlede profit for denne periode\n",
    "        profit_opponent = profit(price_grid[price_index_j], price_grid[price_index_i])\n",
    "        profit_i_current_period = profit(price_grid[price_index_i], price_grid[price_index_j])\n",
    "\n",
    "        # Profit\n",
    "        total_profit[t-1] = (profit_i_current_period + profit_opponent) / 2\n",
    "\n",
    "        # Update for the next iteration: Use the simulated next period's action as the actual action for the opponent\n",
    "        if t % 2 == 0:\n",
    "            profit_1[t-1] = profit_opponent\n",
    "            profit_2[t-1] = profit_i_current_period\n",
    "        else:\n",
    "            profit_1[t-1] = profit_i_current_period\n",
    "            profit_2[t-1] = profit_opponent\n",
    "\n",
    "    return total_profit, profit_1, profit_2\n"
   ]
  },
  {
   "cell_type": "code",
   "execution_count": null,
   "metadata": {},
   "outputs": [],
   "source": []
  }
 ],
 "metadata": {
  "kernelspec": {
   "display_name": "Python 3.11.3 ('homebrew')",
   "language": "python",
   "name": "python3"
  },
  "language_info": {
   "codemirror_mode": {
    "name": "ipython",
    "version": 3
   },
   "file_extension": ".py",
   "mimetype": "text/x-python",
   "name": "python",
   "nbconvert_exporter": "python",
   "pygments_lexer": "ipython3",
   "version": "3.11.3"
  },
  "orig_nbformat": 4,
  "vscode": {
   "interpreter": {
    "hash": "5c7b89af1651d0b8571dde13640ecdccf7d5a6204171d6ab33e7c296e100e08a"
   }
  }
 },
 "nbformat": 4,
 "nbformat_minor": 2
}
