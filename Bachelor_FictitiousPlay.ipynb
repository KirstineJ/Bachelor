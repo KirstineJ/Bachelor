{
 "cells": [
  {
   "cell_type": "code",
   "execution_count": 2,
   "metadata": {},
   "outputs": [],
   "source": [
    "import random\n",
    "import numpy as np\n",
    "import matplotlib\n",
    "import time\n",
    "from numba import jit\n",
    "import multiprocessing as mp\n",
    "from matplotlib import pyplot as plt"
   ]
  },
  {
   "cell_type": "code",
   "execution_count": 3,
   "metadata": {},
   "outputs": [],
   "source": [
    "@jit(nopython=True)\n",
    "def demand(p1, p2):\n",
    "    if p1 < p2:\n",
    "        d = 1 - p1\n",
    "    elif p1 == p2:\n",
    "        d = 0.5 * (1 - p1)\n",
    "    else:\n",
    "        d = 0\n",
    "    return d"
   ]
  },
  {
   "cell_type": "code",
   "execution_count": 4,
   "metadata": {},
   "outputs": [],
   "source": [
    "@jit(nopython=True)\n",
    "def profit(p1, p2):\n",
    "    return (p1 * demand(p1, p2))"
   ]
  },
  {
   "cell_type": "code",
   "execution_count": 5,
   "metadata": {},
   "outputs": [],
   "source": [
    "P = np.array([0, 1/6, 2/6, 3/6, 4/6, 5/6, 1]) # price array"
   ]
  },
  {
   "cell_type": "code",
   "execution_count": 6,
   "metadata": {},
   "outputs": [],
   "source": [
    "@jit(nopython=True)\n",
    "def best_response(p_jt, price_grid):\n",
    "    best_response = 0\n",
    "    max_profit = -1\n",
    "    for p_it in price_grid:  # Iterer gennem en række mulige priser for p_it\n",
    "        current_profit = profit(p_it, p_jt)\n",
    "        if current_profit > max_profit:\n",
    "            max_profit = current_profit\n",
    "            best_response = p_it\n",
    "    best_response_index = np.where(price_grid==best_response)[0][0]\n",
    "    return best_response_index"
   ]
  },
  {
   "cell_type": "code",
   "execution_count": 7,
   "metadata": {},
   "outputs": [],
   "source": [
    "@jit(nopython=True)\n",
    "def FictitiousPlay(price_grid, period):\n",
    "    # Q-tables and vectors\n",
    "    Qtable_i = np.zeros((len(price_grid), len(price_grid)))\n",
    "    Qtable_j = np.zeros((len(price_grid), len(price_grid)))\n",
    "    Qtable_temp = np.zeros((len(price_grid), len(price_grid)))\n",
    "\n",
    "    ProfitTable_i = np.zeros((len(price_grid), len(price_grid)))\n",
    "    ProfitVector_i = np.zeros(len(price_grid))\n",
    "\n",
    "    profit_1 = np.zeros(int(period))\n",
    "    profit_2 = np.zeros(int(period))\n",
    "\n",
    "    total_profit = np.zeros(period)\n",
    "\n",
    "    # Period 1\n",
    "    price_index_i = np.random.choice(len(price_grid)) \n",
    "    #print(\"t = 1\")\n",
    "    #print(\"price_index_i:\", price_index_i)\n",
    "\n",
    "    # Period 2\n",
    "    price_index_j = best_response(price_grid[price_index_i], price_grid)\n",
    "    opponent_actions = 1\n",
    "    #print(\"t = 2\")\n",
    "    #print(\"price_index_j:\", price_index_j)\n",
    "\n",
    "    for t in range(3, period + 1):\n",
    "        #print(\"t = \", t)\n",
    "        # Current period\n",
    "        Qtable_i[price_index_i, price_index_j] = Qtable_i[price_index_i, price_index_j] + 1\n",
    "        #print(\"Qtable_i:\", Qtable_i)\n",
    "\n",
    "        for i in range(len(price_grid)):\n",
    "            #print(\"opponent_actions:\", opponent_actions)\n",
    "            Qtable_i[price_index_i, i] = Qtable_i[price_index_i, i]/opponent_actions\n",
    "            #print(\"Qtable_i efter division:\", Qtable_i)\n",
    "        \n",
    "        for i in range(len(price_grid)):\n",
    "            for j in range(len(price_grid)):\n",
    "                #print(\"profit(price_grid[i], price_grid[j])\", profit(price_grid[i], price_grid[j]))\n",
    "                #print(\"Qtable_i[i, j]\", Qtable_i[i, j])\n",
    "                ProfitTable_i[i, j] = profit(price_grid[i], price_grid[j])*Qtable_i[i, j]\n",
    "            ProfitVector_i[i] = np.sum(ProfitTable_i[i, :])\n",
    "            #print(\"ProfitVector_i:\", ProfitVector_i)\n",
    "\n",
    "        if np.all(ProfitVector_i == 0):\n",
    "            price_index_i = np.random.choice(len(price_grid)) \n",
    "        else:\n",
    "            price_index_i = np.argmax(ProfitVector_i)\n",
    "        #print(\"price_index_i:\", price_index_i)\n",
    "\n",
    "        profit_opponent = profit(price_grid[price_index_j], price_grid[price_index_i])\n",
    "        profit_i_current_period = profit(price_grid[price_index_i], price_grid[price_index_j])\n",
    "\n",
    "        # Profit\n",
    "        total_profit[t-1] = (profit_i_current_period + profit_opponent) / 2\n",
    "\n",
    "        # Update for the next iteration: Use the simulated next period's action as the actual action for the opponent\n",
    "        if t % 2 == 0:\n",
    "            profit_1[t-1] = profit_opponent\n",
    "            profit_2[t-1] = profit_i_current_period\n",
    "        else:\n",
    "            profit_1[t-1] = profit_i_current_period\n",
    "            profit_2[t-1] = profit_opponent\n",
    "            opponent_actions += 1\n",
    "\n",
    "        # Switch player for next period\n",
    "        Qtable_temp = Qtable_j\n",
    "        Qtable_j = Qtable_i\n",
    "        Qtable_i = Qtable_temp\n",
    "        price_index_temp = price_index_j\n",
    "        price_index_j = price_index_i\n",
    "        price_index_i = price_index_temp\n",
    "    \n",
    "    return total_profit, profit_1, profit_2"
   ]
  },
  {
   "cell_type": "code",
   "execution_count": 8,
   "metadata": {},
   "outputs": [],
   "source": [
    "@jit(nopython=True)\n",
    "def Simulations(sim, price_grid, period):\n",
    "    total_profit_sim = np.zeros((sim, period))\n",
    "    profit_1_sim = np.zeros((sim, period))\n",
    "    profit_2_sim = np.zeros((sim, period))\n",
    "    avg_profit = np.zeros(sim)\n",
    "    avg_profit_1 = np.zeros(sim)\n",
    "    avg_profit_2 = np.zeros(sim)\n",
    "\n",
    "    for i in range(sim):\n",
    "        total_profit_array, profit_1_array, profit_2_array = FictitiousPlay(price_grid, period)\n",
    "        total_profit_sim[i] = total_profit_array\n",
    "        profit_1_sim[i] = profit_1_array\n",
    "        profit_2_sim[i] = profit_2_array\n",
    "        avg_profit_1[i] = np.mean(profit_1_array[-1000:])\n",
    "        avg_profit_2[i] = np.mean(profit_2_array[-1000:])\n",
    "\n",
    "    return total_profit_sim, avg_profit_1, avg_profit_2, profit_1_sim, profit_2_sim"
   ]
  },
  {
   "cell_type": "code",
   "execution_count": 9,
   "metadata": {},
   "outputs": [
    {
     "name": "stdout",
     "output_type": "stream",
     "text": [
      "Time taken to run 1000 simulations: 51.527573108673096 seconds\n"
     ]
    }
   ],
   "source": [
    "start_time  = time.time()\n",
    "\n",
    "total_profit_plot, avg_profit_1_plot, avg_profit_2_plot, profit_total_1, profit_total_2 = Simulations(1000, P, 500000)\n",
    "\n",
    "end_time = time.time()\n",
    "\n",
    "elapsed_time = end_time - start_time\n",
    "\n",
    "print(\"Time taken to run 1000 simulations:\", elapsed_time, \"seconds\")"
   ]
  },
  {
   "cell_type": "code",
   "execution_count": 10,
   "metadata": {},
   "outputs": [],
   "source": [
    "samlet_prof = total_profit_plot.mean(0)\n",
    "window_size = 1000\n",
    "  \n",
    "i = 0\n",
    "# Initialize an empty list to store moving averages\n",
    "moving_averages = []\n",
    "# Loop through the array t o\n",
    "#consider every window of size 1000\n",
    "while i < len(samlet_prof) - window_size + 1:\n",
    "  \n",
    "    # Calculate the average of current window\n",
    "    window_average = np.sum(samlet_prof[i:i+window_size]) / window_size\n",
    "      \n",
    "    # Store the average of current\n",
    "    # window in moving average list\n",
    "    moving_averages.append(window_average)\n",
    "      \n",
    "    # Shift window to right by one position\n",
    "    i += 1"
   ]
  },
  {
   "cell_type": "code",
   "execution_count": 11,
   "metadata": {},
   "outputs": [
    {
     "data": {
      "image/png": "[encoded data removed]",
      "text/plain": [
       "<Figure size 640x480 with 1 Axes>"
      ]
     },
     "metadata": {},
     "output_type": "display_data"
    }
   ],
   "source": [
    "plt.plot(moving_averages, color='#a62626', label=\"Average profitability\")\n",
    "plt.xlabel('t')\n",
    "plt.ylabel('Avg. profitability')\n",
    "plt.ylim(0.00, 0.15)\n",
    "plt.hlines(y=0.0611, xmin=0, xmax=500000, colors='red', linestyles='--')\n",
    "plt.hlines(y=0.125, xmin=0, xmax=500000, colors='red', linestyles='--')\n",
    "plt.show()"
   ]
  },
  {
   "cell_type": "code",
   "execution_count": null,
   "metadata": {},
   "outputs": [],
   "source": []
  }
 ],
 "metadata": {
  "kernelspec": {
   "display_name": "Python 3.11.3 ('homebrew')",
   "language": "python",
   "name": "python3"
  },
  "language_info": {
   "codemirror_mode": {
    "name": "ipython",
    "version": 3
   },
   "file_extension": ".py",
   "mimetype": "text/x-python",
   "name": "python",
   "nbconvert_exporter": "python",
   "pygments_lexer": "ipython3",
   "version": "3.11.3"
  },
  "orig_nbformat": 4,
  "vscode": {
   "interpreter": {
    "hash": "5c7b89af1651d0b8571dde13640ecdccf7d5a6204171d6ab33e7c296e100e08a"
   }
  }
 },
 "nbformat": 4,
 "nbformat_minor": 2
}
